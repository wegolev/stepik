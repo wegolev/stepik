{
 "cells": [
  {
   "cell_type": "code",
   "execution_count": 4,
   "metadata": {},
   "outputs": [
    {
     "name": "stdout",
     "output_type": "stream",
     "text": [
      "tensor([[0.0201, 0.0109],\n",
      "        [0.0449, 0.0351]])\n"
     ]
    }
   ],
   "source": [
    "import torch\n",
    "\n",
    "w =  torch.tensor(\n",
    "    [[5, 10],\n",
    "     [1, 2]], \n",
    "     requires_grad=True,\n",
    "     dtype=torch.float)\n",
    "\n",
    "function =torch.log(torch.log(w + 7)).prod()\n",
    "function.backward()\n",
    "\n",
    "#print(w.grad) # Код для самопроверки"
   ]
  },
  {
   "cell_type": "code",
   "execution_count": null,
   "metadata": {},
   "outputs": [],
   "source": []
  },
  {
   "cell_type": "code",
   "execution_count": null,
   "metadata": {},
   "outputs": [],
   "source": []
  }
 ],
 "metadata": {
  "kernelspec": {
   "display_name": "base",
   "language": "python",
   "name": "python3"
  },
  "language_info": {
   "codemirror_mode": {
    "name": "ipython",
    "version": 3
   },
   "file_extension": ".py",
   "mimetype": "text/x-python",
   "name": "python",
   "nbconvert_exporter": "python",
   "pygments_lexer": "ipython3",
   "version": "3.10.9"
  },
  "orig_nbformat": 4
 },
 "nbformat": 4,
 "nbformat_minor": 2
}
