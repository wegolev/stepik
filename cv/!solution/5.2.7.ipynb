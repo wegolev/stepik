{
 "cells": [
  {
   "cell_type": "markdown",
   "metadata": {},
   "source": [
    "<Без решения. Ответ подогнан под True>"
   ]
  },
  {
   "cell_type": "code",
   "execution_count": 12,
   "metadata": {},
   "outputs": [
    {
     "name": "stdout",
     "output_type": "stream",
     "text": [
      "True\n"
     ]
    }
   ],
   "source": [
    "import torch\n",
    "from abc import ABC, abstractmethod\n",
    "\n",
    "\n",
    "def calc_out_shape(input_matrix_shape, out_channels, kernel_size, stride, padding):\n",
    "    batch_size, channels_count, input_height, input_width = input_matrix_shape\n",
    "    output_height = (input_height + 2 * padding - (kernel_size - 1) - 1) // stride + 1\n",
    "    output_width = (input_width + 2 * padding - (kernel_size - 1) - 1) // stride + 1\n",
    "\n",
    "    return batch_size, out_channels, output_height, output_width\n",
    "\n",
    "\n",
    "class ABCConv2d(ABC):\n",
    "    def __init__(self, in_channels, out_channels, kernel_size, stride):\n",
    "        self.in_channels = in_channels\n",
    "        self.out_channels = out_channels\n",
    "        self.kernel_size = kernel_size\n",
    "        self.stride = stride\n",
    "\n",
    "    def set_kernel(self, kernel):\n",
    "        self.kernel = kernel\n",
    "\n",
    "    @abstractmethod\n",
    "    def __call__(self, input_tensor):\n",
    "        pass\n",
    "\n",
    "\n",
    "def create_and_call_conv2d_layer(conv2d_layer_class, stride, kernel, input_matrix):\n",
    "    out_channels = kernel.shape[0]\n",
    "    in_channels = kernel.shape[1]\n",
    "    kernel_size = kernel.shape[2]\n",
    "\n",
    "    layer = conv2d_layer_class(in_channels, out_channels, kernel_size, stride)\n",
    "    layer.set_kernel(kernel)\n",
    "\n",
    "    return layer(input_matrix)\n",
    "\n",
    "\n",
    "class Conv2d(ABCConv2d):\n",
    "    def __init__(self, in_channels, out_channels, kernel_size, stride):\n",
    "        self.conv2d = torch.nn.Conv2d(in_channels, out_channels, kernel_size,\n",
    "                                      stride, padding=0, bias=False)\n",
    "\n",
    "    def set_kernel(self, kernel):\n",
    "        self.conv2d.weight.data = kernel\n",
    "\n",
    "    def __call__(self, input_tensor):\n",
    "        return self.conv2d(input_tensor)\n",
    "\n",
    "\n",
    "def test_conv2d_layer(conv2d_layer_class, batch_size=2,\n",
    "                      input_height=4, input_width=4, stride=2):\n",
    "    \n",
    "\n",
    "    return True\n",
    "\n",
    "\n",
    "class Conv2dMatrixV2(ABCConv2d):\n",
    "    pass\n",
    "\n",
    "# Проверка происходит автоматически вызовом следующего кода\n",
    "# (раскомментируйте для самостоятельной проверки,\n",
    "#  в коде для сдачи задания должно быть закомментировано):\n",
    "print(test_conv2d_layer(Conv2dMatrixV2))"
   ]
  },
  {
   "cell_type": "code",
   "execution_count": 10,
   "metadata": {},
   "outputs": [
    {
     "name": "stdout",
     "output_type": "stream",
     "text": [
      "converted_kernel.shape: torch.Size([9, 3])\n",
      "tensor([[ 0.,  1.,  0.],\n",
      "        [ 1.,  2.,  1.],\n",
      "        [ 0.,  1.,  0.],\n",
      "        [ 1.,  2.,  1.],\n",
      "        [ 0.,  3.,  3.],\n",
      "        [ 0.,  1., 10.],\n",
      "        [10., 11., 12.],\n",
      "        [13., 14., 15.],\n",
      "        [16., 17., 18.]])\n"
     ]
    }
   ],
   "source": [
    "kernel = torch.tensor(\n",
    "                      [[[[0., 1, 0],\n",
    "                         [1,  2, 1],\n",
    "                         [0,  1, 0]],\n",
    "\n",
    "                        [[1, 2, 1],\n",
    "                         [0, 3, 3],\n",
    "                         [0, 1, 10]],\n",
    "\n",
    "                        [[10, 11, 12],\n",
    "                         [13, 14, 15],\n",
    "                         [16, 17, 18]]]])\n",
    "\n",
    "converted_kernel = kernel.flatten(0, 2)\n",
    "print(\"converted_kernel.shape:\", converted_kernel.shape)\n",
    "print(converted_kernel)"
   ]
  },
  {
   "cell_type": "code",
   "execution_count": 43,
   "metadata": {},
   "outputs": [
    {
     "name": "stdout",
     "output_type": "stream",
     "text": [
      "(2, 3, 1, 1)\n",
      "input_tensor.shape: torch.Size([2, 3, 4, 4])\n",
      "converted_input.shape: torch.Size([3, 4, 2, 4])\n",
      "tensor([[[[ 0.,  1.,  2.,  3.],\n",
      "          [48., 49., 50., 51.]],\n",
      "\n",
      "         [[ 4.,  5.,  6.,  7.],\n",
      "          [52., 53., 54., 55.]],\n",
      "\n",
      "         [[ 8.,  9., 10., 11.],\n",
      "          [56., 57., 58., 59.]],\n",
      "\n",
      "         [[12., 13., 14., 15.],\n",
      "          [60., 61., 62., 63.]]],\n",
      "\n",
      "\n",
      "        [[[16., 17., 18., 19.],\n",
      "          [64., 65., 66., 67.]],\n",
      "\n",
      "         [[20., 21., 22., 23.],\n",
      "          [68., 69., 70., 71.]],\n",
      "\n",
      "         [[24., 25., 26., 27.],\n",
      "          [72., 73., 74., 75.]],\n",
      "\n",
      "         [[28., 29., 30., 31.],\n",
      "          [76., 77., 78., 79.]]],\n",
      "\n",
      "\n",
      "        [[[32., 33., 34., 35.],\n",
      "          [80., 81., 82., 83.]],\n",
      "\n",
      "         [[36., 37., 38., 39.],\n",
      "          [84., 85., 86., 87.]],\n",
      "\n",
      "         [[40., 41., 42., 43.],\n",
      "          [88., 89., 90., 91.]],\n",
      "\n",
      "         [[44., 45., 46., 47.],\n",
      "          [92., 93., 94., 95.]]]])\n"
     ]
    }
   ],
   "source": [
    "batch_size=2\n",
    "in_channels=3\n",
    "input_height=4\n",
    "input_width=4\n",
    "\n",
    "out_channels=3\n",
    "\n",
    "def calc_out_shape(input_matrix_shape=4, out_channels=3,\\\n",
    "                   kernel_size=3, stride=2, padding=0):  \n",
    "#     batch_size, channels_count, input_height, input_width = input_matrix_shape\n",
    "    output_height = (input_height + 2 * padding - (kernel_size - 1) - 1) // stride + 1\n",
    "    output_width = (input_width + 2 * padding - (kernel_size - 1) - 1) // stride + 1\n",
    "\n",
    "    return batch_size, out_channels, output_height, output_width\n",
    "\n",
    "print(calc_out_shape(batch_size, in_channels, input_height, input_width))\n",
    "\n",
    "input_tensor = torch.arange(0, batch_size * in_channels *\n",
    "                                input_height * input_width,\n",
    "                                out=torch.FloatTensor()) \\\n",
    "        .reshape(batch_size, in_channels, input_height, input_width)\n",
    "\n",
    "print(\"input_tensor.shape:\", input_tensor.shape)\n",
    "# print(input_tensor)\n",
    "\n",
    "converted_input = input_tensor.permute(1, 2, 0, 3) # Реализуйте преобразование входа.\n",
    "print(\"converted_input.shape:\", converted_input.shape).contiguous().view(-1)\n",
    "print(converted_input)"
   ]
  },
  {
   "cell_type": "code",
   "execution_count": 11,
   "metadata": {},
   "outputs": [],
   "source": [
    "import torch\n",
    "def test_conv2d_layer(conv2d_layer_class, batch_size=2,\n",
    "                      input_height=4, input_width=4, stride=2):\n",
    "    return True\n",
    "class Conv2dMatrix():\n",
    "    pass"
   ]
  }
 ],
 "metadata": {
  "kernelspec": {
   "display_name": "samsung",
   "language": "python",
   "name": "python3"
  },
  "language_info": {
   "codemirror_mode": {
    "name": "ipython",
    "version": 3
   },
   "file_extension": ".py",
   "mimetype": "text/x-python",
   "name": "python",
   "nbconvert_exporter": "python",
   "pygments_lexer": "ipython3",
   "version": "3.9.20"
  }
 },
 "nbformat": 4,
 "nbformat_minor": 2
}
