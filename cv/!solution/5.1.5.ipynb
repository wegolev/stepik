{
 "cells": [
  {
   "cell_type": "code",
   "execution_count": 1,
   "metadata": {},
   "outputs": [
    {
     "name": "stdout",
     "output_type": "stream",
     "text": [
      "tensor([[-4.,  3.],\n",
      "        [-9.,  5.]])\n"
     ]
    }
   ],
   "source": [
    "import torch\n",
    "from torch import nn\n",
    "\n",
    "conv = nn.Conv2d(1,1,kernel_size=3, padding=1, stride=2, bias=False)\n",
    "X = torch.FloatTensor([[[\n",
    "    [4, 2, -1],\n",
    "    [-6, 0, 5],\n",
    "    [3, 2, 2]]]])\n",
    "\n",
    "conv.weight.data = torch.FloatTensor([[[\n",
    "    [0, 1, 2],\n",
    "    [1, -1, 0],\n",
    "    [1, 0, -2]]]])\n",
    "\n",
    "res = conv(X).data[0,0]\n",
    "\n",
    "print(res)"
   ]
  },
  {
   "cell_type": "code",
   "execution_count": 3,
   "metadata": {},
   "outputs": [
    {
     "name": "stdout",
     "output_type": "stream",
     "text": [
      "-4 3 -9 5\n"
     ]
    }
   ],
   "source": [
    "x = torch.tensor([[4, 2, -1],[-6, 0, 5],[3, 2, 2]], dtype=torch.float64).reshape(1,1,3,3)\n",
    "k = torch.tensor([[0, 1, 2],[1, -1, 0],[1, 0, -2]], dtype=torch.float64).reshape(1,1,3,3)\n",
    "conv = torch.nn.functional.conv2d(x, k, stride=2, padding=1).numpy()\n",
    "print(*conv.reshape(-1).astype(int))"
   ]
  },
  {
   "cell_type": "code",
   "execution_count": 4,
   "metadata": {},
   "outputs": [
    {
     "name": "stdout",
     "output_type": "stream",
     "text": [
      "tensor([[[[-4.,  3.],\n",
      "          [-9.,  5.]]]], grad_fn=<ConvolutionBackward0>)\n"
     ]
    },
    {
     "name": "stderr",
     "output_type": "stream",
     "text": [
      "/home/wegolev/anaconda3/lib/python3.11/site-packages/torch/_tensor.py:775: UserWarning: non-inplace resize is deprecated\n",
      "  warnings.warn(\"non-inplace resize is deprecated\")\n"
     ]
    }
   ],
   "source": [
    "import torch\n",
    "\n",
    "input =  [[4, 2, -1],[-6, 0, 5],[3, 2, 2]]\n",
    "\n",
    "convo_map = [[0, 1, 2],[1, -1, 0],[1, 0, -2]]\n",
    "\n",
    "padding = 1\n",
    "\n",
    "stride = 2\n",
    "\n",
    "\n",
    "tinput = torch.tensor(input).float()\n",
    "\n",
    "tinput = tinput.resize(1,1,3,3)\n",
    "\n",
    "tconvo_map = torch.tensor(convo_map).float().t()\n",
    "\n",
    "tconvo_map =tconvo_map.resize(1,1,3,3)\n",
    "\n",
    "\n",
    "convo = torch.nn.Conv2d(in_channels = 1, out_channels =1 , kernel_size = 3, padding = padding  , stride = stride, bias = False)\n",
    "\n",
    "convo.weight = torch.nn.Parameter(tconvo_map)\n",
    "\n",
    "out = convo(tinput)\n",
    "\n",
    "print(out)"
   ]
  }
 ],
 "metadata": {
  "kernelspec": {
   "display_name": "base",
   "language": "python",
   "name": "python3"
  },
  "language_info": {
   "codemirror_mode": {
    "name": "ipython",
    "version": 3
   },
   "file_extension": ".py",
   "mimetype": "text/x-python",
   "name": "python",
   "nbconvert_exporter": "python",
   "pygments_lexer": "ipython3",
   "version": "3.11.4"
  },
  "orig_nbformat": 4
 },
 "nbformat": 4,
 "nbformat_minor": 2
}
