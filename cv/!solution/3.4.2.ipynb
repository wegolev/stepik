{
 "cells": [
  {
   "cell_type": "code",
   "execution_count": 3,
   "metadata": {},
   "outputs": [
    {
     "data": {
      "text/plain": [
       "[M/N]"
      ]
     },
     "execution_count": 3,
     "metadata": {},
     "output_type": "execute_result"
    }
   ],
   "source": [
    "from sympy import symbols, log, diff, solve\n",
    "p, N, M = symbols('p N M')\n",
    "#В сумме под argmin из задачи t_i=1 M раз t_i=0 N-M раз. \n",
    "#Перепишем это выражение без суммы.\n",
    "P=-M*log(p)-(N-M)*log(1-p)\n",
    "#Возьмем производную по p\n",
    "dP=diff(P,p)\n",
    "#Решим уравнение производная = 0, относительно p\n",
    "solve(dP,p)\n"
   ]
  }
 ],
 "metadata": {
  "kernelspec": {
   "display_name": "base_kernel",
   "language": "python",
   "name": "base_kernel"
  },
  "language_info": {
   "codemirror_mode": {
    "name": "ipython",
    "version": 3
   },
   "file_extension": ".py",
   "mimetype": "text/x-python",
   "name": "python",
   "nbconvert_exporter": "python",
   "pygments_lexer": "ipython3",
   "version": "3.10.9"
  },
  "orig_nbformat": 4
 },
 "nbformat": 4,
 "nbformat_minor": 2
}
