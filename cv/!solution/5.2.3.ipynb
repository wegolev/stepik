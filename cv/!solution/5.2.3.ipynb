{
 "cells": [
  {
   "cell_type": "code",
   "execution_count": 11,
   "metadata": {},
   "outputs": [
    {
     "name": "stdout",
     "output_type": "stream",
     "text": [
      "2 10 8 8\n",
      "True\n"
     ]
    }
   ],
   "source": [
    "import numpy as np\n",
    "\n",
    "\n",
    "def calc_out_shape(input_matrix_shape, out_channels, kernel_size, stride, padding):\n",
    "    out_shape_height = ((input_matrix_shape[2] - kernel_size + 2 * padding) // stride) + 1\n",
    "    out_shape_width = ((input_matrix_shape[3] - kernel_size + 2 * padding) // stride) + 1\n",
    "    print(input_matrix_shape[0], out_channels, out_shape_height, out_shape_width)\n",
    "\n",
    "    return np.array([input_matrix_shape[0], out_channels, out_shape_height, out_shape_width])\n",
    "\n",
    "print(np.array_equal(\n",
    "    calc_out_shape(input_matrix_shape=[2, 3, 10, 10],\n",
    "                   out_channels=10,\n",
    "                   kernel_size=3,\n",
    "                   stride=1,\n",
    "                   padding=0),\n",
    "    [2, 10, 8, 8]))\n",
    "\n",
    "# ... и ещё несколько подобных кейсов"
   ]
  },
  {
   "cell_type": "markdown",
   "metadata": {},
   "source": [
    "$N$ - число изображений (`input_matrix_shape[0]`)\n",
    "\n",
    "$C_{in}$ - количество входных каналов (для RGB $C_{in} = 3$)\n",
    "\n",
    "$C_{out}$ - количество выходных каналов или другими словами количество фильтров (`out_channels`) \n",
    "\n",
    "$H_{in}$ и $W_{in}$ - соответственно высота и ширина входной картинки (`input_matrix_shape[2]` и `input_matrix_shape[3]`)\n",
    "\n",
    "$H_{out}$ и $W_{out}$ - соответственно высота и ширина выходного сверточного слоя \n",
    "\n",
    "Так как по условию все картинки и фильтры квадратные (ширина = высота), то вышенаписанная формула примет следующий вид:\n",
    "\n",
    "$$ H_{out} = \\frac{H_{in} - K + 2P}{S} + 1 $$\n",
    "\n",
    "$$ W_{out} = \\frac{W_{in} - K + 2P}{S} + 1 $$\n",
    "\n",
    "$$ H_{out} = W_{out} $$\n",
    "\n",
    "где \n",
    "\n",
    "$K$ - размер ядра (`kernel_size`)\n",
    "\n",
    "$P$ - padding\n",
    "\n",
    "$S$ - stride"
   ]
  }
 ],
 "metadata": {
  "kernelspec": {
   "display_name": "samsung",
   "language": "python",
   "name": "python3"
  },
  "language_info": {
   "codemirror_mode": {
    "name": "ipython",
    "version": 3
   },
   "file_extension": ".py",
   "mimetype": "text/x-python",
   "name": "python",
   "nbconvert_exporter": "python",
   "pygments_lexer": "ipython3",
   "version": "3.9.20"
  },
  "orig_nbformat": 4
 },
 "nbformat": 4,
 "nbformat_minor": 2
}
