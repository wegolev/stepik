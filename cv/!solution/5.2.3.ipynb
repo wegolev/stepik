{
 "cells": [
  {
   "cell_type": "code",
   "execution_count": 3,
   "metadata": {},
   "outputs": [
    {
     "name": "stdout",
     "output_type": "stream",
     "text": [
      "False\n"
     ]
    }
   ],
   "source": [
    "import numpy as np\n",
    "\n",
    "\n",
    "def calc_out_shape(input_matrix_shape, out_channels, kernel_size, stride, padding):\n",
    "    out_shape = int(np.floor((np.prod(input_matrix_shape) - kernel_size + 2 * padding) \n",
    "                             // stride))+1\n",
    "\n",
    "    return out_shape\n",
    "\n",
    "print(np.array_equal(calc_out_shape(input_matrix_shape=[2, 3, 10, 10],\n",
    "                                                        out_channels=10,\n",
    "                                                        kernel_size=3,\n",
    "                                                        stride=1,\n",
    "                                                        padding=0),\n",
    "                                    [2, 10, 8, 8]))\n",
    "\n",
    "# ... и ещё несколько подобных кейсов"
   ]
  },
  {
   "cell_type": "markdown",
   "metadata": {},
   "source": [
    "W_out = ((W−K+2⋅P) / S) +1"
   ]
  }
 ],
 "metadata": {
  "kernelspec": {
   "display_name": "base_kernel",
   "language": "python",
   "name": "base_kernel"
  },
  "language_info": {
   "codemirror_mode": {
    "name": "ipython",
    "version": 3
   },
   "file_extension": ".py",
   "mimetype": "text/x-python",
   "name": "python",
   "nbconvert_exporter": "python",
   "pygments_lexer": "ipython3",
   "version": "3.10.9"
  },
  "orig_nbformat": 4
 },
 "nbformat": 4,
 "nbformat_minor": 2
}
