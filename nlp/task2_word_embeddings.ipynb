{
 "cells": [
  {
   "cell_type": "markdown",
   "metadata": {},
   "source": [
    "# Word2Vec"
   ]
  },
  {
   "cell_type": "code",
   "execution_count": 1,
   "metadata": {},
   "outputs": [],
   "source": [
    "# Если Вы запускаете ноутбук на colab или kaggle,\n",
    "# выполните следующие строчки, чтобы подгрузить библиотеку dlnlputils:\n",
    "\n",
    "# !git clone https://github.com/Samsung-IT-Academy/stepik-dl-nlp.git && pip install -r stepik-dl-nlp/requirements.txt\n",
    "# import sys; sys.path.append('./stepik-dl-nlp')"
   ]
  },
  {
   "cell_type": "code",
   "execution_count": 2,
   "metadata": {
    "ExecuteTime": {
     "end_time": "2019-10-29T19:19:30.785285Z",
     "start_time": "2019-10-29T19:19:29.542846Z"
    }
   },
   "outputs": [],
   "source": [
    "%load_ext autoreload\n",
    "%autoreload 2\n",
    "\n",
    "import random\n",
    "import pandas as pd\n",
    "import numpy as np\n",
    "\n",
    "import matplotlib.pyplot as plt\n",
    "%matplotlib inline\n",
    "\n",
    "import torch\n",
    "from torch import nn\n",
    "from torch.nn import functional as F\n",
    "\n",
    "import dlnlputils\n",
    "from dlnlputils.data import tokenize_corpus, build_vocabulary, texts_to_token_ids, \\\n",
    "    PaddedSequenceDataset, Embeddings\n",
    "from dlnlputils.pipeline import train_eval_loop, predict_with_model, init_random_seed\n",
    "from dlnlputils.visualization import plot_vectors\n",
    "\n",
    "init_random_seed()"
   ]
  },
  {
   "cell_type": "markdown",
   "metadata": {},
   "source": [
    "## Загрузка данных и подготовка корпуса"
   ]
  },
  {
   "cell_type": "code",
<<<<<<< HEAD
   "execution_count": 4,
=======
   "execution_count": 3,
>>>>>>> e9e3679dd6ef9fd6a07ce435736c5fb8a87bd37e
   "metadata": {
    "ExecuteTime": {
     "end_time": "2019-10-29T19:19:31.270503Z",
     "start_time": "2019-10-29T19:19:30.787789Z"
    }
   },
   "outputs": [
    {
     "name": "stdout",
     "output_type": "stream",
     "text": [
      "Обучающая выборка 125344\n",
      "Тестовая выборка 53719\n",
      "\n",
<<<<<<< HEAD
      "110 grams (2 large) eggs\n",
      "1/2 teaspoon crushed fennel seeds\n",
      "2 ounces rendered chicken fat\n",
      "3 grams kosher salt (1 teaspoon)\n",
      "2 tablespoons soy sauce\n",
      "2 bay leaves\n",
      "5 tablespoons freshly squeezed lemon juice\n",
      "2 tablespoons salmon caviar\n",
      "1/4 cup chopped fresh Italian parsley\n",
      "1 cup arborio rice\n"
=======
      "1/4 cup sour cream\n",
      "10 ounces swordfish, red snapper or other firm-fleshed fish\n",
      "1 tablespoon minced basil leaves\n",
      "Handful fresh parsley, finely minced\n",
      "4 ounces lard or butter, plus more for brushing tops\n",
      "4 to 5 green cardamom pods\n",
      "1 stick ( 1/4 pound) unsalted butter, softened\n",
      "1/4 teaspoon red pepper flakes, preferably Turkish or Aleppo (see note), more to taste\n",
      "1 tablespoon fresh lemon juice\n",
      "1/4 cup scallions, thinly sliced\n"
>>>>>>> e9e3679dd6ef9fd6a07ce435736c5fb8a87bd37e
     ]
    }
   ],
   "source": [
    "# Если Вы запускаете ноутбук на colab или kaggle, добавьте в начало пути ./stepik-dl-nlp\n",
    "full_dataset = list(pd.read_csv('./datasets/nyt-ingredients-snapshot-2015.csv')['input'].dropna())\n",
    "random.shuffle(full_dataset)\n",
    "\n",
    "TRAIN_VAL_SPLIT = int(len(full_dataset) * 0.7)\n",
    "train_source = full_dataset[:TRAIN_VAL_SPLIT]\n",
    "test_source = full_dataset[TRAIN_VAL_SPLIT:]\n",
    "print(\"Обучающая выборка\", len(train_source))\n",
    "print(\"Тестовая выборка\", len(test_source))\n",
    "print()\n",
    "print('\\n'.join(train_source[:10]))"
   ]
  },
  {
   "cell_type": "code",
<<<<<<< HEAD
   "execution_count": 5,
=======
   "execution_count": 4,
>>>>>>> e9e3679dd6ef9fd6a07ce435736c5fb8a87bd37e
   "metadata": {
    "ExecuteTime": {
     "end_time": "2019-10-29T19:19:32.137838Z",
     "start_time": "2019-10-29T19:19:31.272363Z"
    }
   },
   "outputs": [
    {
     "name": "stdout",
     "output_type": "stream",
     "text": [
<<<<<<< HEAD
      "grams large eggs\n",
      "teaspoon crushed fennel seeds\n",
      "ounces rendered chicken\n",
      "grams kosher salt teaspoon\n",
      "tablespoons sauce\n",
      "leaves\n",
      "tablespoons freshly squeezed lemon juice\n",
      "tablespoons salmon caviar\n",
      "chopped fresh italian parsley\n",
      "arborio rice\n"
=======
      "sour cream\n",
      "ounces swordfish snapper other firm fleshed fish\n",
      "tablespoon minced basil leaves\n",
      "handful fresh parsley finely minced\n",
      "ounces lard butter plus more brushing tops\n",
      "green cardamom pods\n",
      "stick pound unsalted butter softened\n",
      "teaspoon pepper flakes preferably turkish aleppo note more taste\n",
      "tablespoon fresh lemon juice\n",
      "scallions thinly sliced\n"
>>>>>>> e9e3679dd6ef9fd6a07ce435736c5fb8a87bd37e
     ]
    }
   ],
   "source": [
    "# токенизируем\n",
    "train_tokenized = tokenize_corpus(train_source)\n",
    "test_tokenized = tokenize_corpus(test_source)\n",
    "print('\\n'.join(' '.join(sent) for sent in train_tokenized[:10]))"
   ]
  },
  {
   "cell_type": "code",
<<<<<<< HEAD
   "execution_count": 6,
=======
   "execution_count": 5,
>>>>>>> e9e3679dd6ef9fd6a07ce435736c5fb8a87bd37e
   "metadata": {
    "ExecuteTime": {
     "end_time": "2019-10-29T19:19:32.325205Z",
     "start_time": "2019-10-29T19:19:32.140837Z"
    }
   },
   "outputs": [
    {
     "name": "stdout",
     "output_type": "stream",
     "text": [
<<<<<<< HEAD
      "Размер словаря 2264\n",
      "[('<PAD>', 0), ('tablespoons', 1), ('teaspoon', 2), ('chopped', 3), ('salt', 4), ('pepper', 5), ('cups', 6), ('ground', 7), ('tablespoon', 8), ('fresh', 9)]\n"
=======
      "Размер словаря 2267\n",
      "[('<PAD>', 0), ('tablespoons', 1), ('teaspoon', 2), ('chopped', 3), ('salt', 4), ('pepper', 5), ('cups', 6), ('ground', 7), ('fresh', 8), ('tablespoon', 9)]\n"
>>>>>>> e9e3679dd6ef9fd6a07ce435736c5fb8a87bd37e
     ]
    }
   ],
   "source": [
    "# строим словарь\n",
    "vocabulary, word_doc_freq = build_vocabulary(train_tokenized, max_doc_freq=0.9, min_count=5, pad_word='<PAD>')\n",
    "print(\"Размер словаря\", len(vocabulary))\n",
    "print(list(vocabulary.items())[:10])"
   ]
  },
  {
   "cell_type": "code",
<<<<<<< HEAD
   "execution_count": 7,
=======
   "execution_count": 6,
>>>>>>> e9e3679dd6ef9fd6a07ce435736c5fb8a87bd37e
   "metadata": {
    "ExecuteTime": {
     "end_time": "2019-10-29T19:19:32.686258Z",
     "start_time": "2019-10-29T19:19:32.327711Z"
    }
   },
   "outputs": [
    {
     "name": "stdout",
     "output_type": "stream",
     "text": [
<<<<<<< HEAD
      "60 18 59\n",
      "2 100 192 69\n",
      "21 916 46\n",
      "60 57 4 2\n",
      "1 56\n",
      "33\n",
      "1 11 219 31 26\n",
      "1 257 641\n",
      "3 9 143 40\n",
      "395 72\n"
=======
      "222 52\n",
      "22 878 574 127 246 707 181\n",
      "9 19 88 33\n",
      "517 8 43 15 19\n",
      "22 586 20 45 47 648 649\n",
      "59 329 535\n",
      "200 12 50 20 266\n",
      "2 5 140 78 1208 735 153 47 10\n",
      "9 8 31 25\n",
      "98 65 27\n"
>>>>>>> e9e3679dd6ef9fd6a07ce435736c5fb8a87bd37e
     ]
    }
   ],
   "source": [
    "# отображаем в номера токенов\n",
    "train_token_ids = texts_to_token_ids(train_tokenized, vocabulary)\n",
    "test_token_ids = texts_to_token_ids(test_tokenized, vocabulary)\n",
    "\n",
    "print('\\n'.join(' '.join(str(t) for t in sent)\n",
    "                for sent in train_token_ids[:10]))"
   ]
  },
  {
   "cell_type": "code",
<<<<<<< HEAD
   "execution_count": 8,
=======
   "execution_count": 7,
>>>>>>> e9e3679dd6ef9fd6a07ce435736c5fb8a87bd37e
   "metadata": {
    "ExecuteTime": {
     "end_time": "2019-10-29T19:19:32.967989Z",
     "start_time": "2019-10-29T19:19:32.688319Z"
    }
   },
   "outputs": [
    {
     "data": {
<<<<<<< HEAD
      "image/png": "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",
=======
      "image/png": "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",
>>>>>>> e9e3679dd6ef9fd6a07ce435736c5fb8a87bd37e
      "text/plain": [
       "<Figure size 640x480 with 1 Axes>"
      ]
     },
     "metadata": {},
     "output_type": "display_data"
    }
   ],
   "source": [
    "plt.hist([len(s) for s in train_token_ids], bins=20);\n",
    "plt.title('Гистограмма длин предложений');"
   ]
  },
  {
   "cell_type": "code",
<<<<<<< HEAD
   "execution_count": 9,
=======
   "execution_count": 12,
>>>>>>> e9e3679dd6ef9fd6a07ce435736c5fb8a87bd37e
   "metadata": {
    "ExecuteTime": {
     "end_time": "2019-10-29T19:19:33.001487Z",
     "start_time": "2019-10-29T19:19:32.970153Z"
    }
   },
   "outputs": [
    {
     "name": "stdout",
     "output_type": "stream",
     "text": [
<<<<<<< HEAD
      "(tensor([60, 18, 59,  0,  0,  0,  0,  0,  0,  0,  0,  0,  0,  0,  0,  0,  0,  0,\n",
      "         0,  0]), tensor(0))\n"
=======
      "(tensor([222,  52,   0,   0,   0,   0,   0,   0,   0,   0,   0,   0,   0,   0,\n",
      "          0,   0,   0,   0,   0,   0]), tensor(0))\n"
>>>>>>> e9e3679dd6ef9fd6a07ce435736c5fb8a87bd37e
     ]
    }
   ],
   "source": [
    "MAX_SENTENCE_LEN = 20\n",
    "train_dataset = PaddedSequenceDataset(train_token_ids,\n",
    "                                      np.zeros(len(train_token_ids)),\n",
    "                                      out_len=MAX_SENTENCE_LEN)\n",
    "test_dataset = PaddedSequenceDataset(test_token_ids,\n",
    "                                     np.zeros(len(test_token_ids)),\n",
    "                                     out_len=MAX_SENTENCE_LEN)\n",
    "print(train_dataset[0])"
   ]
  },
  {
   "cell_type": "markdown",
   "metadata": {},
   "source": [
    "## Алгоритм обучения - Skip Gram Negative Sampling\n",
    "\n",
    "**Skip Gram** - предсказываем соседние слова по центральному слову\n",
    "\n",
    "**Negative Sampling** - аппроксимация softmax\n",
    "\n",
    "$$ W, D \\in \\mathbb{R}^{Vocab \\times EmbSize} $$\n",
    "\n",
    "$$ \\sum_{CenterW_i} P(CtxW_{-2}, CtxW_{-1}, CtxW_{+1}, CtxW_{+2} | CenterW_i; W, D) \\rightarrow \\max_{W,D} $$\n",
    "\n",
    "$$ P(CtxW_{-2}, CtxW_{-1}, CtxW_{+1}, CtxW_{+2} | CenterW_i; W, D) = \\prod_j P(CtxW_j | CenterW_i; W, D) $$\n",
    "    \n",
    "$$ P(CtxW_j | CenterW_i; W, D) = \\frac{e^{w_i \\cdot d_j}} { \\sum_{j=1}^{|V|} e^{w_i \\cdot d_j}} = softmax \\simeq \\frac{e^{w_i \\cdot d_j^+}} { \\sum_{j=1}^{k} e^{w_i \\cdot d_j^-}}, \\quad k \\ll |V| $$"
   ]
  },
  {
   "cell_type": "code",
   "execution_count": null,
   "metadata": {
    "ExecuteTime": {
     "end_time": "2019-10-29T19:19:33.065376Z",
     "start_time": "2019-10-29T19:19:33.003081Z"
    }
   },
   "outputs": [],
   "source": [
    "def make_diag_mask(size, radius):\n",
    "    \"\"\"Квадратная матрица размера Size x Size с двумя полосами ширины radius вдоль главной диагонали\"\"\"\n",
    "    idxs = torch.arange(size)\n",
    "    abs_idx_diff = (idxs.unsqueeze(0) - idxs.unsqueeze(1)).abs()\n",
    "    mask = ((abs_idx_diff <= radius) & (abs_idx_diff > 0)).float()\n",
    "    return mask\n",
    "\n",
    "make_diag_mask(10, 3)"
   ]
  },
  {
   "cell_type": "markdown",
   "metadata": {},
   "source": [
    "**Negative Sampling** работает следующим образом - мы **максимизируем сумму вероятностей двух событий**: \n",
    "\n",
    "* \"этот пример центрального слова вместе с контекстными словами взят **из тренировочной выборки**\": $$ P(y=1 | CenterW_i; CtxW_j) = sigmoid(w_i \\cdot d_j) = \\frac{1}{1+e^{-w_i \\cdot d_j}} $$\n",
    "\n",
    "$$ \\\\ $$\n",
    "\n",
    "* \"этот пример центрального слова вместе со случайми контекстными словами **выдуман** \": $$ P(y=0 | CenterW_i; CtxW_{noise}) = 1 - P(y=1 | CenterW_i;  CtxW_{noise}) = \\frac{1}{1+e^{w_i \\cdot d_{noise}}} $$\n",
    "\n",
    "$$ \\\\ $$\n",
    "\n",
    "$$ NEG(CtxW_j, CenterW_i) = log(\\frac{1}{1+e^{-w_i \\cdot d_j}}) + \\sum_{l=1}^{k}log(\\frac{1}{1+e^{w_i \\cdot d_{noise_l}}})  \\rightarrow \\max_{W,D} $$"
   ]
  },
  {
   "cell_type": "code",
   "execution_count": null,
   "metadata": {
    "ExecuteTime": {
     "end_time": "2019-10-29T19:19:33.101379Z",
     "start_time": "2019-10-29T19:19:33.068154Z"
    }
   },
   "outputs": [],
   "source": [
    "class SkipGramNegativeSamplingTrainer(nn.Module):\n",
    "    def __init__(self, vocab_size, emb_size, sentence_len, radius=5, negative_samples_n=5):\n",
    "        super().__init__()\n",
    "        self.vocab_size = vocab_size\n",
    "        self.negative_samples_n = negative_samples_n\n",
    "\n",
    "        self.center_emb = nn.Embedding(self.vocab_size, emb_size, padding_idx=0)\n",
    "        self.center_emb.weight.data.uniform_(-1.0 / emb_size, 1.0 / emb_size)\n",
    "        self.center_emb.weight.data[0] = 0\n",
    "\n",
    "        self.context_emb = nn.Embedding(self.vocab_size, emb_size, padding_idx=0)        \n",
    "        self.context_emb.weight.data.uniform_(-1.0 / emb_size, 1.0 / emb_size)\n",
    "        self.context_emb.weight.data[0] = 0\n",
    "\n",
    "        self.positive_sim_mask = make_diag_mask(sentence_len, radius)\n",
    "    \n",
    "    def forward(self, sentences):\n",
    "        \"\"\"sentences - Batch x MaxSentLength - идентификаторы токенов\"\"\"\n",
    "        batch_size = sentences.shape[0]\n",
    "        center_embeddings = self.center_emb(sentences)  # Batch x MaxSentLength x EmbSize\n",
    "\n",
    "        # оценить сходство с настоящими соседними словами\n",
    "        positive_context_embs = self.context_emb(sentences).permute(0, 2, 1)  # Batch x EmbSize x MaxSentLength\n",
    "        positive_sims = torch.bmm(center_embeddings, positive_context_embs)  # Batch x MaxSentLength x MaxSentLength\n",
    "        positive_probs = torch.sigmoid(positive_sims)\n",
    "\n",
    "        # увеличить оценку вероятности встретить эти пары слов вместе\n",
    "        positive_mask = self.positive_sim_mask.to(positive_sims.device)\n",
    "        positive_loss = F.binary_cross_entropy(positive_probs * positive_mask,\n",
    "                                               positive_mask.expand_as(positive_probs))\n",
    "\n",
    "        # выбрать случайные \"отрицательные\" слова\n",
    "        negative_words = torch.randint(1, self.vocab_size,\n",
    "                                       size=(batch_size, self.negative_samples_n),\n",
    "                                       device=sentences.device)  # Batch x NegSamplesN\n",
    "        negative_context_embs = self.context_emb(negative_words).permute(0, 2, 1)  # Batch x EmbSize x NegSamplesN\n",
    "        negative_sims = torch.bmm(center_embeddings, negative_context_embs)  # Batch x MaxSentLength x NegSamplesN\n",
    "        \n",
    "        # уменьшить оценку вероятность встретить эти пары слов вместе\n",
    "        negative_loss = F.binary_cross_entropy_with_logits(negative_sims,\n",
    "                                                           negative_sims.new_zeros(negative_sims.shape))\n",
    "\n",
    "        return positive_loss + negative_loss\n",
    "\n",
    "\n",
    "def no_loss(pred, target):\n",
    "    \"\"\"Фиктивная функция потерь - когда модель сама считает функцию потерь\"\"\"\n",
    "    return pred"
   ]
  },
  {
   "cell_type": "markdown",
   "metadata": {},
   "source": [
    "## Обучение"
   ]
  },
  {
   "cell_type": "code",
   "execution_count": null,
   "metadata": {
    "ExecuteTime": {
     "end_time": "2019-10-29T19:19:33.130307Z",
     "start_time": "2019-10-29T19:19:33.103036Z"
    }
   },
   "outputs": [],
   "source": [
    "trainer = SkipGramNegativeSamplingTrainer(len(vocabulary), 100, MAX_SENTENCE_LEN,\n",
    "                                          radius=5, negative_samples_n=25)"
   ]
  },
  {
   "cell_type": "code",
   "execution_count": null,
   "metadata": {
    "ExecuteTime": {
     "end_time": "2019-10-29T19:20:12.830221Z",
     "start_time": "2019-10-29T19:19:33.132062Z"
    },
    "scrolled": false
   },
   "outputs": [],
   "source": [
    "best_val_loss, best_model = train_eval_loop(trainer,\n",
    "                                            train_dataset,\n",
    "                                            test_dataset,\n",
    "                                            no_loss,\n",
    "                                            lr=1e-2,\n",
    "                                            epoch_n=2,\n",
    "                                            batch_size=8,\n",
    "                                            device='cpu',\n",
    "                                            early_stopping_patience=10,\n",
    "                                            max_batches_per_epoch_train=2000,\n",
    "                                            max_batches_per_epoch_val=len(test_dataset),\n",
    "                                            lr_scheduler_ctor=lambda optim: torch.optim.lr_scheduler.ReduceLROnPlateau(optim, patience=1, verbose=True))"
   ]
  },
  {
   "cell_type": "code",
   "execution_count": null,
   "metadata": {
    "ExecuteTime": {
     "end_time": "2019-10-29T19:20:12.862018Z",
     "start_time": "2019-10-29T19:20:12.832046Z"
    }
   },
   "outputs": [],
   "source": [
    "# Если Вы запускаете ноутбук на colab или kaggle, добавьте в начало пути ./stepik-dl-nlp\n",
    "torch.save(trainer.state_dict(), 'models/sgns.pth')"
   ]
  },
  {
   "cell_type": "code",
   "execution_count": null,
   "metadata": {
    "ExecuteTime": {
     "end_time": "2019-10-29T19:20:12.888270Z",
     "start_time": "2019-10-29T19:20:12.864706Z"
    }
   },
   "outputs": [],
   "source": [
    "# Если Вы запускаете ноутбук на colab или kaggle, добавьте в начало пути ./stepik-dl-nlp\n",
    "trainer.load_state_dict(torch.load('models/sgns.pth'))"
   ]
  },
  {
   "cell_type": "markdown",
   "metadata": {},
   "source": [
    "## Исследуем характеристики полученных векторов"
   ]
  },
  {
   "cell_type": "code",
   "execution_count": null,
   "metadata": {
    "ExecuteTime": {
     "end_time": "2019-10-29T19:20:12.919904Z",
     "start_time": "2019-10-29T19:20:12.890671Z"
    }
   },
   "outputs": [],
   "source": [
    "embeddings = Embeddings(trainer.center_emb.weight.detach().cpu().numpy(), vocabulary)"
   ]
  },
  {
   "cell_type": "code",
   "execution_count": null,
   "metadata": {
    "ExecuteTime": {
     "end_time": "2019-10-29T19:20:12.942708Z",
     "start_time": "2019-10-29T19:20:12.921619Z"
    }
   },
   "outputs": [],
   "source": [
    "embeddings.most_similar('chicken')"
   ]
  },
  {
   "cell_type": "code",
   "execution_count": null,
   "metadata": {
    "ExecuteTime": {
     "end_time": "2019-10-29T19:20:12.965936Z",
     "start_time": "2019-10-29T19:20:12.944423Z"
    }
   },
   "outputs": [],
   "source": [
    "embeddings.analogy('cake', 'cacao', 'cheese')"
   ]
  },
  {
   "cell_type": "code",
   "execution_count": null,
   "metadata": {
    "ExecuteTime": {
     "end_time": "2019-10-29T19:20:12.991060Z",
     "start_time": "2019-10-29T19:20:12.967532Z"
    }
   },
   "outputs": [],
   "source": [
    "test_words = ['salad', 'fish', 'salmon', 'sauvignon', 'beef', 'pork', 'steak', 'beer', 'cake', 'coffee', 'sausage', 'wine', 'merlot', 'zinfandel', 'trout', 'chardonnay', 'champagne', 'cacao']\n",
    "test_vectors = embeddings.get_vectors(*test_words)\n",
    "print(test_vectors.shape)"
   ]
  },
  {
   "cell_type": "code",
   "execution_count": null,
   "metadata": {
    "ExecuteTime": {
     "end_time": "2019-10-29T19:20:13.318676Z",
     "start_time": "2019-10-29T19:20:12.996595Z"
    }
   },
   "outputs": [],
   "source": [
    "fig, ax = plt.subplots()\n",
    "fig.set_size_inches((10, 10))\n",
    "plot_vectors(test_vectors, test_words, how='svd', ax=ax)"
   ]
  },
  {
   "cell_type": "markdown",
   "metadata": {},
   "source": [
    "## Обучение Word2Vec с помощью Gensim"
   ]
  },
  {
   "cell_type": "code",
   "execution_count": null,
   "metadata": {
    "ExecuteTime": {
     "end_time": "2019-10-29T19:20:13.613797Z",
     "start_time": "2019-10-29T19:20:13.321353Z"
    }
   },
   "outputs": [],
   "source": [
    "import gensim"
   ]
  },
  {
   "cell_type": "code",
   "execution_count": null,
   "metadata": {
    "ExecuteTime": {
     "end_time": "2019-10-29T19:20:17.075005Z",
     "start_time": "2019-10-29T19:20:13.615729Z"
    }
   },
   "outputs": [],
   "source": [
    "word2vec = gensim.models.Word2Vec(sentences=train_tokenized, size=100,\n",
    "                                  window=5, min_count=5, workers=4,\n",
    "                                  sg=1, iter=10)"
   ]
  },
  {
   "cell_type": "code",
   "execution_count": null,
   "metadata": {
    "ExecuteTime": {
     "end_time": "2019-10-29T19:20:17.109583Z",
     "start_time": "2019-10-29T19:20:17.076599Z"
    }
   },
   "outputs": [],
   "source": [
    "word2vec.wv.most_similar('chicken')"
   ]
  },
  {
   "cell_type": "code",
   "execution_count": null,
   "metadata": {
    "ExecuteTime": {
     "end_time": "2019-10-29T19:20:17.176357Z",
     "start_time": "2019-10-29T19:20:17.112948Z"
    }
   },
   "outputs": [],
   "source": [
    "gensim_words = [w for w in test_words if w in word2vec.wv.vocab]\n",
    "gensim_vectors = np.stack([word2vec.wv[w] for w in gensim_words])"
   ]
  },
  {
   "cell_type": "code",
   "execution_count": null,
   "metadata": {
    "ExecuteTime": {
     "end_time": "2019-10-29T19:20:17.428874Z",
     "start_time": "2019-10-29T19:20:17.179311Z"
    }
   },
   "outputs": [],
   "source": [
    "fig, ax = plt.subplots()\n",
    "fig.set_size_inches((10, 10))\n",
    "plot_vectors(gensim_vectors, test_words, how='svd', ax=ax)"
   ]
  },
  {
   "cell_type": "markdown",
   "metadata": {},
   "source": [
    "## Загрузка предобученного Word2Vec\n",
    "\n",
    "Источники готовых векторов:\n",
    "\n",
    "https://rusvectores.org/ru/ - для русского языка\n",
    "\n",
    "https://wikipedia2vec.github.io/wikipedia2vec/pretrained/ - много разных языков"
   ]
  },
  {
   "cell_type": "code",
   "execution_count": null,
   "metadata": {
    "ExecuteTime": {
     "end_time": "2019-10-29T19:20:17.460133Z",
     "start_time": "2019-10-29T19:20:17.430563Z"
    }
   },
   "outputs": [],
   "source": [
    "import gensim.downloader as api"
   ]
  },
  {
   "cell_type": "code",
   "execution_count": null,
   "metadata": {
    "ExecuteTime": {
     "end_time": "2019-10-29T19:20:17.980509Z",
     "start_time": "2019-10-29T19:20:17.462239Z"
    }
   },
   "outputs": [],
   "source": [
    "available_models = api.info()['models'].keys()\n",
    "print('\\n'.join(available_models))"
   ]
  },
  {
   "cell_type": "code",
   "execution_count": null,
   "metadata": {
    "ExecuteTime": {
     "end_time": "2019-10-29T19:22:12.649035Z",
     "start_time": "2019-10-29T19:20:17.984118Z"
    },
    "scrolled": false
   },
   "outputs": [],
   "source": [
    "pretrained = api.load('word2vec-google-news-300')  # > 1.5 GB!"
   ]
  },
  {
   "cell_type": "code",
   "execution_count": null,
   "metadata": {
    "ExecuteTime": {
     "end_time": "2019-10-29T19:22:12.651388Z",
     "start_time": "2019-10-29T19:19:29.817Z"
    }
   },
   "outputs": [],
   "source": [
    "pretrained.most_similar('cheese')"
   ]
  },
  {
   "cell_type": "code",
   "execution_count": null,
   "metadata": {
    "ExecuteTime": {
     "end_time": "2019-10-29T19:22:12.652649Z",
     "start_time": "2019-10-29T19:19:29.820Z"
    }
   },
   "outputs": [],
   "source": [
    "pretrained.most_similar(positive=['man', 'queen'], negative=['king'])"
   ]
  },
  {
   "cell_type": "code",
   "execution_count": null,
   "metadata": {
    "ExecuteTime": {
     "end_time": "2019-10-29T19:22:12.653584Z",
     "start_time": "2019-10-29T19:19:29.823Z"
    }
   },
   "outputs": [],
   "source": [
    "pretrained_words = [w for w in test_words if w in pretrained.vocab]\n",
    "pretrained_vectors = np.stack([pretrained[w] for w in pretrained_words])"
   ]
  },
  {
   "cell_type": "code",
   "execution_count": null,
   "metadata": {
    "ExecuteTime": {
     "end_time": "2019-10-29T19:22:12.654594Z",
     "start_time": "2019-10-29T19:19:29.828Z"
    }
   },
   "outputs": [],
   "source": [
    "fig, ax = plt.subplots()\n",
    "fig.set_size_inches((10, 10))\n",
    "plot_vectors(pretrained_vectors, test_words, how='svd', ax=ax)"
   ]
  },
  {
   "cell_type": "markdown",
   "metadata": {},
   "source": [
    "## Заключение\n",
    "\n",
    "* Реализовали Skip Gram Negative Sampling на PyTorch\n",
    "* Обучили на корпусе рецептов\n",
    "    * Сходство слов модель выучила неплохо\n",
    "    * Для аналогий мало данных\n",
    "* Обучили SGNS с помощью библиотеки Gensim\n",
    "* Загрузили веса Word2Vec, полученные с помощью большого корпуса (GoogleNews)\n",
    "    * Списки похожих слов отличаются!\n",
    "    * Аналогии работают"
   ]
  },
  {
   "cell_type": "code",
   "execution_count": null,
   "metadata": {},
   "outputs": [],
   "source": []
  }
 ],
 "metadata": {
  "kernelspec": {
   "display_name": "Python 3",
   "language": "python",
   "name": "python3"
  },
  "language_info": {
   "codemirror_mode": {
    "name": "ipython",
    "version": 3
   },
   "file_extension": ".py",
   "mimetype": "text/x-python",
   "name": "python",
   "nbconvert_exporter": "python",
   "pygments_lexer": "ipython3",
   "version": "3.9.18"
  },
  "latex_envs": {
   "LaTeX_envs_menu_present": true,
   "autoclose": false,
   "autocomplete": true,
   "bibliofile": "biblio.bib",
   "cite_by": "apalike",
   "current_citInitial": 1,
   "eqLabelWithNumbers": true,
   "eqNumInitial": 1,
   "hotkeys": {
    "equation": "Ctrl-E",
    "itemize": "Ctrl-I"
   },
   "labels_anchors": false,
   "latex_user_defs": false,
   "report_style_numbering": false,
   "user_envs_cfg": false
  },
  "toc": {
   "base_numbering": 1,
   "nav_menu": {},
   "number_sections": true,
   "sideBar": true,
   "skip_h1_title": false,
   "title_cell": "Table of Contents",
   "title_sidebar": "Contents",
   "toc_cell": false,
   "toc_position": {},
   "toc_section_display": true,
   "toc_window_display": false
  }
 },
 "nbformat": 4,
 "nbformat_minor": 2
}
