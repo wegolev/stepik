{
 "cells": [
  {
   "attachments": {},
   "cell_type": "markdown",
   "metadata": {},
   "source": [
    "# Тематическая классификация длинных текстов - TFIDF и LogReg"
   ]
  },
  {
   "cell_type": "code",
   "execution_count": 3,
   "metadata": {},
   "outputs": [],
   "source": [
    "# Если Вы запускаете ноутбук на colab или kaggle,\n",
    "# выполните следующие строчки, чтобы подгрузить библиотеку dlnlputils:\n",
    "\n",
    "# !git clone https://github.com/Samsung-IT-Academy/stepik-dl-nlp.git && pip install -r stepik-dl-nlp/requirements.txt\n",
    "# import sys; sys.path.append('./stepik-dl-nlp')"
   ]
  },
  {
   "cell_type": "code",
   "execution_count": 1,
   "metadata": {
    "ExecuteTime": {
     "end_time": "2019-09-12T12:42:57.265628Z",
     "start_time": "2019-09-12T12:42:55.188211Z"
    }
   },
   "outputs": [],
   "source": [
    "import warnings\n",
    "warnings.filterwarnings('ignore')\n",
    "\n",
    "from sklearn.datasets import fetch_20newsgroups\n",
    "from sklearn.metrics import accuracy_score\n",
    "\n",
    "import numpy as np\n",
    "\n",
    "import matplotlib.pyplot as plt\n",
    "%matplotlib inline\n",
    "\n",
    "import collections\n",
    "\n",
    "import torch\n",
    "from torch import nn\n",
    "from torch.nn import functional as F\n",
    "\n",
    "import dlnlputils\n",
    "from dlnlputils.data import tokenize_text_simple_regex, tokenize_corpus, build_vocabulary, \\\n",
    "    vectorize_texts, SparseFeaturesDataset\n",
    "from dlnlputils.pipeline import train_eval_loop, predict_with_model, init_random_seed\n",
    "\n",
    "init_random_seed()"
   ]
  },
  {
   "attachments": {},
   "cell_type": "markdown",
   "metadata": {},
   "source": [
    "## Предобработка текстов и подготовка признаков"
   ]
  },
  {
   "cell_type": "code",
   "execution_count": 9,
   "metadata": {
    "ExecuteTime": {
     "end_time": "2019-09-12T12:42:57.847399Z",
     "start_time": "2019-09-12T12:42:57.268037Z"
    }
   },
   "outputs": [
    {
     "name": "stdout",
     "output_type": "stream",
     "text": [
      "Количество обучающих текстов 11314\n",
      "Количество тестовых текстов 7532\n",
      "\n",
      "From: lerxst@wam.umd.edu (where's my thing)\n",
      "Subject: WHAT car is this!?\n",
      "Nntp-Posting-Host: rac3.wam.umd.edu\n",
      "Organization: University of Maryland, College Park\n",
      "Lines: 15\n",
      "\n",
      " I was wondering if anyone out there could enlighten me on this car I saw\n",
      "the other day. It was a 2-door sports car, looked to be from the late 60s/\n",
      "early 70s. It was called a Bricklin. The doors were really small. In addition,\n",
      "the front bumper was separate from the rest of the body. This is \n",
      "all I know. If anyone can tellme a model name, engine specs, years\n",
      "of production, where this car is made, history, or whatever info you\n",
      "have on this funky looking car, please e-mail.\n",
      "\n",
      "Thanks,\n",
      "- IL\n",
      "   ---- brought to you by your neighborhood Lerxst ----\n",
      "\n",
      "Метка 7\n"
     ]
    }
   ],
   "source": [
    "train_source = fetch_20newsgroups(subset='train')\n",
    "test_source = fetch_20newsgroups(subset='test')\n",
    "\n",
    "print('Количество обучающих текстов', len(train_source['data']))\n",
    "print('Количество тестовых текстов', len(test_source['data']))\n",
    "print()\n",
    "\n",
    "print(train_source['data'][0].strip())\n",
    "print()\n",
    "print('Метка', train_source['target'][0])"
   ]
  },
  {
   "attachments": {},
   "cell_type": "markdown",
   "metadata": {},
   "source": [
    "### Подготовка признаков"
   ]
  },
  {
   "cell_type": "code",
   "execution_count": 16,
   "metadata": {
    "ExecuteTime": {
     "end_time": "2019-09-12T12:43:00.294422Z",
     "start_time": "2019-09-12T12:42:57.849386Z"
    }
   },
   "outputs": [
    {
     "name": "stdout",
     "output_type": "stream",
     "text": [
      "from lerxst where thing subject what this nntp posting host rac3 organization university maryland college park lines wondering anyone there could enlighten this other door sports looked from late early called bricklin doors were really small addition front bumper separate from rest body this know anyone tellme model name engine specs years production where this made history whatever info have this funky looking please mail thanks brought your neighborhood lerxst\n",
      "[['from', 'lerxst', 'where', 'thing', 'subject', 'what', 'this', 'nntp', 'posting', 'host', 'rac3', 'organization', 'university', 'maryland', 'college', 'park', 'lines', 'wondering', 'anyone', 'there', 'could', 'enlighten', 'this', 'other', 'door', 'sports', 'looked', 'from', 'late', 'early', 'called', 'bricklin', 'doors', 'were', 'really', 'small', 'addition', 'front', 'bumper', 'separate', 'from', 'rest', 'body', 'this', 'know', 'anyone', 'tellme', 'model', 'name', 'engine', 'specs', 'years', 'production', 'where', 'this', 'made', 'history', 'whatever', 'info', 'have', 'this', 'funky', 'looking', 'please', 'mail', 'thanks', 'brought', 'your', 'neighborhood', 'lerxst']]\n"
     ]
    }
   ],
   "source": [
    "train_tokenized = tokenize_corpus(train_source['data'])\n",
    "test_tokenized = tokenize_corpus(test_source['data'])\n",
    "\n",
    "print(' '.join(train_tokenized[0]))\n",
    "print(train_tokenized[:1])"
   ]
  },
  {
   "cell_type": "code",
   "execution_count": 18,
   "metadata": {
    "ExecuteTime": {
     "end_time": "2019-09-12T12:43:00.825372Z",
     "start_time": "2019-09-12T12:43:00.297392Z"
    }
   },
   "outputs": [
    {
     "name": "stdout",
     "output_type": "stream",
     "text": [
      "Количество уникальных токенов 21628\n",
      "[('that', 0), ('this', 1), ('have', 2), ('with', 3), ('writes', 4), ('article', 5), ('posting', 6), ('host', 7), ('nntp', 8), ('there', 9)]\n"
     ]
    }
   ],
   "source": [
    "MAX_DF = 0.8\n",
    "MIN_COUNT = 5\n",
    "vocabulary, word_doc_freq = build_vocabulary(train_tokenized, max_doc_freq=MAX_DF, min_count=MIN_COUNT)\n",
    "UNIQUE_WORDS_N = len(vocabulary)\n",
    "print('Количество уникальных токенов', UNIQUE_WORDS_N)\n",
    "print(list(vocabulary.items())[:10])"
   ]
  },
  {
   "cell_type": "code",
   "execution_count": 19,
   "metadata": {
    "ExecuteTime": {
     "end_time": "2019-09-12T12:43:01.524600Z",
     "start_time": "2019-09-12T12:43:00.829107Z"
    }
   },
   "outputs": [
    {
     "data": {
      "image/png": "[encoded data removed]",
      "text/plain": [
       "<Figure size 640x480 with 1 Axes>"
      ]
     },
     "metadata": {},
     "output_type": "display_data"
    }
   ],
   "source": [
    "plt.hist(word_doc_freq, bins=20)\n",
    "plt.title('Распределение относительных частот слов')\n",
    "plt.yscale('log');"
   ]
  },
  {
   "cell_type": "code",
   "execution_count": 8,
   "metadata": {
    "ExecuteTime": {
     "end_time": "2019-09-12T12:44:16.094816Z",
     "start_time": "2019-09-12T12:43:01.526554Z"
    }
   },
   "outputs": [
    {
     "name": "stdout",
     "output_type": "stream",
     "text": [
      "Размерность матрицы признаков обучающей выборки (11314, 21628)\n",
      "Размерность матрицы признаков тестовой выборки (7532, 21628)\n",
      "\n",
      "Количество ненулевых элементов в обучающей выборке 1126792\n",
      "Процент заполненности матрицы признаков 0.46%\n",
      "\n",
      "Количество ненулевых элементов в тестовой выборке 721529\n",
      "Процент заполненности матрицы признаков 0.44%\n"
     ]
    }
   ],
   "source": [
    "VECTORIZATION_MODE = 'tfidf'\n",
    "train_vectors = vectorize_texts(train_tokenized, vocabulary, word_doc_freq, mode=VECTORIZATION_MODE)\n",
    "test_vectors = vectorize_texts(test_tokenized, vocabulary, word_doc_freq, mode=VECTORIZATION_MODE)\n",
    "\n",
    "print('Размерность матрицы признаков обучающей выборки', train_vectors.shape)\n",
    "print('Размерность матрицы признаков тестовой выборки', test_vectors.shape)\n",
    "print()\n",
    "print('Количество ненулевых элементов в обучающей выборке', train_vectors.nnz)\n",
    "print('Процент заполненности матрицы признаков {:.2f}%'.format(train_vectors.nnz * 100 / (train_vectors.shape[0] * train_vectors.shape[1])))\n",
    "print()\n",
    "print('Количество ненулевых элементов в тестовой выборке', test_vectors.nnz)\n",
    "print('Процент заполненности матрицы признаков {:.2f}%'.format(test_vectors.nnz * 100 / (test_vectors.shape[0] * test_vectors.shape[1])))"
   ]
  },
  {
   "cell_type": "code",
   "execution_count": 9,
   "metadata": {
    "ExecuteTime": {
     "end_time": "2019-09-12T12:44:16.857114Z",
     "start_time": "2019-09-12T12:44:16.098773Z"
    }
   },
   "outputs": [
    {
     "data": {
      "image/png": "[encoded data removed]",
      "text/plain": [
       "<Figure size 640x480 with 1 Axes>"
      ]
     },
     "metadata": {},
     "output_type": "display_data"
    }
   ],
   "source": [
    "plt.hist(train_vectors.data, bins=20)\n",
    "plt.title('Распределение весов признаков')\n",
    "plt.yscale('log');"
   ]
  },
  {
   "attachments": {},
   "cell_type": "markdown",
   "metadata": {},
   "source": [
    "### Распределение классов"
   ]
  },
  {
   "cell_type": "code",
   "execution_count": 10,
   "metadata": {
    "ExecuteTime": {
     "end_time": "2019-09-12T12:44:16.864960Z",
     "start_time": "2019-09-12T12:44:16.859476Z"
    }
   },
   "outputs": [
    {
     "name": "stdout",
     "output_type": "stream",
     "text": [
      "Количество уникальных меток 20\n"
     ]
    }
   ],
   "source": [
    "UNIQUE_LABELS_N = len(set(train_source['target']))\n",
    "print('Количество уникальных меток', UNIQUE_LABELS_N)"
   ]
  },
  {
   "cell_type": "code",
   "execution_count": 11,
   "metadata": {
    "ExecuteTime": {
     "end_time": "2019-09-12T12:44:17.106036Z",
     "start_time": "2019-09-12T12:44:16.867310Z"
    }
   },
   "outputs": [
    {
     "data": {
      "image/png": "[encoded data removed]",
      "text/plain": [
       "<Figure size 640x480 with 1 Axes>"
      ]
     },
     "metadata": {},
     "output_type": "display_data"
    }
   ],
   "source": [
    "plt.hist(train_source['target'], bins=np.arange(0, 21))\n",
    "plt.title('Распределение меток в обучающей выборке');"
   ]
  },
  {
   "cell_type": "code",
   "execution_count": 12,
   "metadata": {
    "ExecuteTime": {
     "end_time": "2019-09-12T12:44:17.312198Z",
     "start_time": "2019-09-12T12:44:17.109884Z"
    },
    "scrolled": true
   },
   "outputs": [
    {
     "data": {
      "image/png": "[encoded data removed]",
      "text/plain": [
       "<Figure size 640x480 with 1 Axes>"
      ]
     },
     "metadata": {},
     "output_type": "display_data"
    }
   ],
   "source": [
    "plt.hist(test_source['target'], bins=np.arange(0, 21))\n",
    "plt.title('Распределение меток в тестовой выборке');"
   ]
  },
  {
   "attachments": {},
   "cell_type": "markdown",
   "metadata": {},
   "source": [
    "### PyTorch Dataset"
   ]
  },
  {
   "cell_type": "code",
   "execution_count": 13,
   "metadata": {
    "ExecuteTime": {
     "end_time": "2019-09-12T12:44:17.319292Z",
     "start_time": "2019-09-12T12:44:17.315074Z"
    }
   },
   "outputs": [],
   "source": [
    "train_dataset = SparseFeaturesDataset(train_vectors, train_source['target'])\n",
    "test_dataset = SparseFeaturesDataset(test_vectors, test_source['target'])"
   ]
  },
  {
   "attachments": {},
   "cell_type": "markdown",
   "metadata": {},
   "source": [
    "## Обучение модели на PyTorch"
   ]
  },
  {
   "cell_type": "code",
   "execution_count": 14,
   "metadata": {
    "ExecuteTime": {
     "end_time": "2019-09-12T12:46:22.371272Z",
     "start_time": "2019-09-12T12:44:17.322178Z"
    },
    "scrolled": false
   },
   "outputs": [
    {
     "name": "stdout",
     "output_type": "stream",
     "text": [
      "Эпоха 0\n",
      "Эпоха: 354 итераций, 5.12 сек\n",
      "Среднее значение функции потерь на обучении 2.225258683754226\n",
      "Среднее значение функции потерь на валидации 2.1137066397626523\n",
      "Новая лучшая модель!\n",
      "\n",
      "Эпоха 1\n",
      "Эпоха: 354 итераций, 4.57 сек\n",
      "Среднее значение функции потерь на обучении 0.9165928528807258\n",
      "Среднее значение функции потерь на валидации 1.6821992973149833\n",
      "Новая лучшая модель!\n",
      "\n",
      "Эпоха 2\n",
      "Эпоха: 354 итераций, 4.76 сек\n",
      "Среднее значение функции потерь на обучении 0.46601853717518393\n",
      "Среднее значение функции потерь на валидации 1.4643920917632216\n",
      "Новая лучшая модель!\n",
      "\n",
      "Эпоха 3\n",
      "Эпоха: 354 итераций, 4.63 сек\n",
      "Среднее значение функции потерь на обучении 0.28363697685427586\n",
      "Среднее значение функции потерь на валидации 1.3450381053706346\n",
      "Новая лучшая модель!\n",
      "\n",
      "Эпоха 4\n",
      "Эпоха: 354 итераций, 4.67 сек\n",
      "Среднее значение функции потерь на обучении 0.1907249465584755\n",
      "Среднее значение функции потерь на валидации 1.2602417491755242\n",
      "Новая лучшая модель!\n",
      "\n",
      "Эпоха 5\n",
      "Эпоха: 354 итераций, 4.49 сек\n",
      "Среднее значение функции потерь на обучении 0.13643508412912067\n",
      "Среднее значение функции потерь на валидации 1.2005354474156589\n",
      "Новая лучшая модель!\n",
      "\n",
      "Эпоха 6\n",
      "Эпоха: 354 итераций, 4.54 сек\n",
      "Среднее значение функции потерь на обучении 0.10175186235689174\n",
      "Среднее значение функции потерь на валидации 1.154382837525869\n",
      "Новая лучшая модель!\n",
      "\n",
      "Эпоха 7\n",
      "Эпоха: 354 итераций, 4.48 сек\n",
      "Среднее значение функции потерь на обучении 0.07793661906241865\n",
      "Среднее значение функции потерь на валидации 1.1209707169209497\n",
      "Новая лучшая модель!\n",
      "\n",
      "Эпоха 8\n",
      "Эпоха: 354 итераций, 4.60 сек\n",
      "Среднее значение функции потерь на обучении 0.06176994043786479\n",
      "Среднее значение функции потерь на валидации 1.0886674667313947\n",
      "Новая лучшая модель!\n",
      "\n",
      "Эпоха 9\n",
      "Эпоха: 354 итераций, 4.51 сек\n",
      "Среднее значение функции потерь на обучении 0.04921787979323312\n",
      "Среднее значение функции потерь на валидации 1.0575767947455583\n",
      "Новая лучшая модель!\n",
      "\n",
      "Эпоха 10\n",
      "Эпоха: 354 итераций, 4.54 сек\n",
      "Среднее значение функции потерь на обучении 0.04008686846900879\n",
      "Среднее значение функции потерь на валидации 1.0522258072081259\n",
      "Новая лучшая модель!\n",
      "\n",
      "Эпоха 11\n",
      "Эпоха: 354 итераций, 4.46 сек\n",
      "Среднее значение функции потерь на обучении 0.033054586465728314\n",
      "Среднее значение функции потерь на валидации 1.0252113332182675\n",
      "Новая лучшая модель!\n",
      "\n",
      "Эпоха 12\n",
      "Эпоха: 354 итераций, 4.62 сек\n",
      "Среднее значение функции потерь на обучении 0.027422152367541513\n",
      "Среднее значение функции потерь на валидации 1.0233961404380152\n",
      "Новая лучшая модель!\n",
      "\n",
      "Эпоха 13\n",
      "Эпоха: 354 итераций, 4.75 сек\n",
      "Среднее значение функции потерь на обучении 0.02306586079625676\n",
      "Среднее значение функции потерь на валидации 1.0005402524592513\n",
      "Новая лучшая модель!\n",
      "\n",
      "Эпоха 14\n",
      "Эпоха: 354 итераций, 4.77 сек\n",
      "Среднее значение функции потерь на обучении 0.019530175064327353\n",
      "Среднее значение функции потерь на валидации 0.9915587489130133\n",
      "Новая лучшая модель!\n",
      "\n",
      "Эпоха 15\n",
      "Эпоха: 354 итераций, 4.46 сек\n",
      "Среднее значение функции потерь на обучении 0.01649778668037326\n",
      "Среднее значение функции потерь на валидации 0.9758749697673119\n",
      "Новая лучшая модель!\n",
      "\n",
      "Эпоха 16\n",
      "Эпоха: 354 итераций, 4.76 сек\n",
      "Среднее значение функции потерь на обучении 0.013959768759007802\n",
      "Среднее значение функции потерь на валидации 0.9762110981648251\n",
      "\n",
      "Эпоха 17\n",
      "Эпоха: 354 итераций, 4.48 сек\n",
      "Среднее значение функции потерь на обучении 0.01236779161493457\n",
      "Среднее значение функции потерь на валидации 0.9614278222039595\n",
      "Новая лучшая модель!\n",
      "\n",
      "Эпоха 18\n",
      "Эпоха: 354 итераций, 4.69 сек\n",
      "Среднее значение функции потерь на обучении 0.010551439581759864\n",
      "Среднее значение функции потерь на валидации 0.9536914552672434\n",
      "Новая лучшая модель!\n",
      "\n",
      "Эпоха 19\n",
      "Эпоха: 354 итераций, 5.03 сек\n",
      "Среднее значение функции потерь на обучении 0.00927676610901194\n",
      "Среднее значение функции потерь на валидации 0.9553849174309585\n",
      "\n",
      "Эпоха 20\n",
      "Эпоха: 354 итераций, 4.71 сек\n",
      "Среднее значение функции потерь на обучении 0.008060245918725633\n",
      "Среднее значение функции потерь на валидации 0.9670785088407792\n",
      "\n",
      "Эпоха 21\n",
      "Эпоха: 354 итераций, 4.75 сек\n",
      "Среднее значение функции потерь на обучении 0.0073286523107876\n",
      "Среднее значение функции потерь на валидации 0.9403568823206223\n",
      "Новая лучшая модель!\n",
      "\n",
      "Эпоха 22\n",
      "Эпоха: 354 итераций, 4.55 сек\n",
      "Среднее значение функции потерь на обучении 0.006772750453881414\n",
      "Среднее значение функции потерь на валидации 0.9329050569716146\n",
      "Новая лучшая модель!\n",
      "\n",
      "Эпоха 23\n",
      "Эпоха: 354 итераций, 4.58 сек\n",
      "Среднее значение функции потерь на обучении 0.005589824840742148\n",
      "Среднее значение функции потерь на валидации 0.9329792685427908\n",
      "\n",
      "Эпоха 24\n",
      "Эпоха: 354 итераций, 4.65 сек\n",
      "Среднее значение функции потерь на обучении 0.00525662045525308\n",
      "Среднее значение функции потерь на валидации 0.969008580607883\n",
      "\n",
      "Эпоха 25\n",
      "Эпоха: 354 итераций, 4.97 сек\n",
      "Среднее значение функции потерь на обучении 0.004769211705204489\n",
      "Среднее значение функции потерь на валидации 0.9437574385586431\n",
      "\n",
      "Эпоха 26\n",
      "Эпоха: 354 итераций, 4.62 сек\n",
      "Среднее значение функции потерь на обучении 0.0044087219906386805\n",
      "Среднее значение функции потерь на валидации 0.9343369551381823\n",
      "\n",
      "Эпоха 27\n",
      "Эпоха: 354 итераций, 4.57 сек\n",
      "Среднее значение функции потерь на обучении 0.004121569617839509\n",
      "Среднее значение функции потерь на валидации 0.9609627628983077\n",
      "\n",
      "Эпоха 28\n",
      "Эпоха: 354 итераций, 4.55 сек\n",
      "Среднее значение функции потерь на обучении 0.004164910571397108\n",
      "Среднее значение функции потерь на валидации 0.9498709116951894\n",
      "Epoch 00029: reducing learning rate of group 0 to 5.0000e-02.\n",
      "\n",
      "Эпоха 29\n",
      "Эпоха: 354 итераций, 4.56 сек\n",
      "Среднее значение функции потерь на обучении 0.0032320532239585495\n",
      "Среднее значение функции потерь на валидации 0.934424620184858\n",
      "\n",
      "Эпоха 30\n",
      "Эпоха: 354 итераций, 4.68 сек\n",
      "Среднее значение функции потерь на обучении 0.0029576759655350862\n",
      "Среднее значение функции потерь на валидации 0.9424987888689769\n",
      "\n",
      "Эпоха 31\n",
      "Эпоха: 354 итераций, 4.64 сек\n",
      "Среднее значение функции потерь на обучении 0.0028751831813971906\n",
      "Среднее значение функции потерь на валидации 0.9348585687704005\n",
      "\n",
      "Эпоха 32\n",
      "Эпоха: 354 итераций, 4.68 сек\n",
      "Среднее значение функции потерь на обучении 0.0026018132663977803\n",
      "Среднее значение функции потерь на валидации 0.9306276128706286\n",
      "Новая лучшая модель!\n",
      "\n",
      "Эпоха 33\n",
      "Эпоха: 354 итераций, 4.48 сек\n",
      "Среднее значение функции потерь на обучении 0.0027132535336531257\n",
      "Среднее значение функции потерь на валидации 0.9447226626640659\n",
      "\n",
      "Эпоха 34\n",
      "Эпоха: 354 итераций, 4.69 сек\n",
      "Среднее значение функции потерь на обучении 0.0025347615616023804\n",
      "Среднее значение функции потерь на валидации 0.9425550822989416\n",
      "\n",
      "Эпоха 35\n",
      "Эпоха: 354 итераций, 4.49 сек\n",
      "Среднее значение функции потерь на обучении 0.0026106520339772288\n",
      "Среднее значение функции потерь на валидации 0.939932508741395\n",
      "\n",
      "Эпоха 36\n",
      "Эпоха: 354 итераций, 4.69 сек\n",
      "Среднее значение функции потерь на обучении 0.0024109339335930697\n",
      "Среднее значение функции потерь на валидации 0.9386596261697301\n",
      "\n",
      "Эпоха 37\n",
      "Эпоха: 354 итераций, 4.55 сек\n",
      "Среднее значение функции потерь на обучении 0.0023538255139969625\n",
      "Среднее значение функции потерь на валидации 0.9418996438636618\n",
      "\n",
      "Эпоха 38\n",
      "Эпоха: 354 итераций, 4.56 сек\n",
      "Среднее значение функции потерь на обучении 0.002311125958218676\n",
      "Среднее значение функции потерь на валидации 0.942268808766947\n",
      "Epoch 00039: reducing learning rate of group 0 to 2.5000e-02.\n",
      "\n",
      "Эпоха 39\n",
      "Эпоха: 354 итераций, 4.74 сек\n",
      "Среднее значение функции потерь на обучении 0.001942189143338217\n",
      "Среднее значение функции потерь на валидации 0.9435673493702533\n",
      "\n",
      "Эпоха 40\n",
      "Эпоха: 354 итераций, 4.72 сек\n",
      "Среднее значение функции потерь на обучении 0.0018815722587481561\n",
      "Среднее значение функции потерь на валидации 0.9396187390311289\n",
      "\n",
      "Эпоха 41\n",
      "Эпоха: 354 итераций, 4.53 сек\n",
      "Среднее значение функции потерь на обучении 0.0018609654115026917\n",
      "Среднее значение функции потерь на валидации 0.9446327144564208\n",
      "\n",
      "Эпоха 42\n",
      "Эпоха: 354 итераций, 4.80 сек\n",
      "Среднее значение функции потерь на обучении 0.001822268735151409\n",
      "Среднее значение функции потерь на валидации 0.9422168653395216\n",
      "\n",
      "Эпоха 43\n",
      "Эпоха: 354 итераций, 4.69 сек\n",
      "Среднее значение функции потерь на обучении 0.0017887837176065165\n",
      "Среднее значение функции потерь на валидации 0.9431612053412503\n",
      "Модель не улучшилась за последние 10 эпох, прекращаем обучение\n"
     ]
    }
   ],
   "source": [
    "model = nn.Linear(UNIQUE_WORDS_N, UNIQUE_LABELS_N)\n",
    "\n",
    "scheduler = lambda optim: \\\n",
    "    torch.optim.lr_scheduler.ReduceLROnPlateau(optim, patience=5, factor=0.5, verbose=True)\n",
    "\n",
    "best_val_loss, best_model = train_eval_loop(model=model,\n",
    "                                            train_dataset=train_dataset,\n",
    "                                            val_dataset=test_dataset,\n",
    "                                            criterion=F.cross_entropy,\n",
    "                                            lr=1e-1,\n",
    "                                            epoch_n=200,\n",
    "                                            batch_size=32,\n",
    "                                            l2_reg_alpha=0,\n",
    "                                            lr_scheduler_ctor=scheduler)"
   ]
  },
  {
   "attachments": {},
   "cell_type": "markdown",
   "metadata": {},
   "source": [
    "## Оценка качества"
   ]
  },
  {
   "cell_type": "code",
   "execution_count": 15,
   "metadata": {
    "ExecuteTime": {
     "end_time": "2019-09-12T12:46:25.105663Z",
     "start_time": "2019-09-12T12:46:22.373012Z"
    }
   },
   "outputs": [
    {
     "name": "stderr",
     "output_type": "stream",
     "text": [
      "100%|██████████| 354/353.5625 [00:03<00:00, 111.01it/s]\n"
     ]
    },
    {
     "name": "stdout",
     "output_type": "stream",
     "text": [
      "Среднее значение функции потерь на обучении 0.0022322239819914103\n",
      "Доля верных ответов 0.9994696835778681\n",
      "\n"
     ]
    },
    {
     "name": "stderr",
     "output_type": "stream",
     "text": [
      "236it [00:02, 117.53it/s]                             "
     ]
    },
    {
     "name": "stdout",
     "output_type": "stream",
     "text": [
      "Среднее значение функции потерь на валидации 0.9289400577545166\n",
      "Доля верных ответов 0.76805629314923\n"
     ]
    },
    {
     "name": "stderr",
     "output_type": "stream",
     "text": [
      "\n"
     ]
    }
   ],
   "source": [
    "train_pred = predict_with_model(best_model, train_dataset)\n",
    "\n",
    "train_loss = F.cross_entropy(torch.from_numpy(train_pred),\n",
    "                             torch.from_numpy(train_source['target']).long())\n",
    "\n",
    "print('Среднее значение функции потерь на обучении', float(train_loss))\n",
    "print('Доля верных ответов', accuracy_score(train_source['target'], train_pred.argmax(-1)))\n",
    "print()\n",
    "\n",
    "\n",
    "\n",
    "test_pred = predict_with_model(best_model, test_dataset)\n",
    "\n",
    "test_loss = F.cross_entropy(torch.from_numpy(test_pred),\n",
    "                            torch.from_numpy(test_source['target']).long())\n",
    "\n",
    "print('Среднее значение функции потерь на валидации', float(test_loss))\n",
    "print('Доля верных ответов', accuracy_score(test_source['target'], test_pred.argmax(-1)))"
   ]
  },
  {
   "attachments": {},
   "cell_type": "markdown",
   "metadata": {},
   "source": [
    "# Альтернативная реализация на scikit-learn"
   ]
  },
  {
   "cell_type": "code",
   "execution_count": 16,
   "metadata": {
    "ExecuteTime": {
     "end_time": "2019-09-12T12:46:31.791405Z",
     "start_time": "2019-09-12T12:46:25.107897Z"
    },
    "scrolled": false
   },
   "outputs": [],
   "source": [
    "from sklearn.feature_extraction.text import TfidfVectorizer\n",
    "from sklearn.pipeline import Pipeline\n",
    "from sklearn.linear_model import LogisticRegression\n",
    "\n",
    "sklearn_pipeline = Pipeline((('vect', TfidfVectorizer(tokenizer=tokenize_text_simple_regex,\n",
    "                                                      max_df=MAX_DF,\n",
    "                                                      min_df=MIN_COUNT)),\n",
    "                             ('cls', LogisticRegression())))\n",
    "sklearn_pipeline.fit(train_source['data'], train_source['target']);"
   ]
  },
  {
   "attachments": {},
   "cell_type": "markdown",
   "metadata": {},
   "source": [
    "## Оценка качества"
   ]
  },
  {
   "cell_type": "code",
   "execution_count": 17,
   "metadata": {
    "ExecuteTime": {
     "end_time": "2019-09-12T12:46:35.454567Z",
     "start_time": "2019-09-12T12:46:31.792832Z"
    }
   },
   "outputs": [
    {
     "name": "stdout",
     "output_type": "stream",
     "text": [
      "Среднее значение функции потерь на обучении 2.495478891863413\n",
      "Доля верных ответов 0.9716280714159449\n",
      "\n",
      "Среднее значение функции потерь на валидации 2.6539022582384098\n",
      "Доля верных ответов 0.8190387679235263\n"
     ]
    }
   ],
   "source": [
    "sklearn_train_pred = sklearn_pipeline.predict_proba(train_source['data'])\n",
    "sklearn_train_loss = F.cross_entropy(torch.from_numpy(sklearn_train_pred),\n",
    "                                                 torch.from_numpy(train_source['target']))\n",
    "print('Среднее значение функции потерь на обучении', float(sklearn_train_loss))\n",
    "print('Доля верных ответов', accuracy_score(train_source['target'], sklearn_train_pred.argmax(-1)))\n",
    "print()\n",
    "\n",
    "sklearn_test_pred = sklearn_pipeline.predict_proba(test_source['data'])\n",
    "sklearn_test_loss = F.cross_entropy(torch.from_numpy(sklearn_test_pred),\n",
    "                                                torch.from_numpy(test_source['target']))\n",
    "print('Среднее значение функции потерь на валидации', float(sklearn_test_loss))\n",
    "print('Доля верных ответов', accuracy_score(test_source['target'], sklearn_test_pred.argmax(-1)))"
   ]
  },
  {
   "cell_type": "code",
   "execution_count": null,
   "metadata": {},
   "outputs": [],
   "source": []
  }
 ],
 "metadata": {
  "kernelspec": {
   "display_name": "Python 3",
   "language": "python",
   "name": "python3"
  },
  "language_info": {
   "codemirror_mode": {
    "name": "ipython",
    "version": 3
   },
   "file_extension": ".py",
   "mimetype": "text/x-python",
   "name": "python",
   "nbconvert_exporter": "python",
   "pygments_lexer": "ipython3",
   "version": "3.9.18"
  },
  "latex_envs": {
   "LaTeX_envs_menu_present": true,
   "autoclose": false,
   "autocomplete": true,
   "bibliofile": "biblio.bib",
   "cite_by": "apalike",
   "current_citInitial": 1,
   "eqLabelWithNumbers": true,
   "eqNumInitial": 1,
   "hotkeys": {
    "equation": "Ctrl-E",
    "itemize": "Ctrl-I"
   },
   "labels_anchors": false,
   "latex_user_defs": false,
   "report_style_numbering": false,
   "user_envs_cfg": false
  },
  "toc": {
   "base_numbering": 1,
   "nav_menu": {},
   "number_sections": true,
   "sideBar": true,
   "skip_h1_title": false,
   "title_cell": "Table of Contents",
   "title_sidebar": "Contents",
   "toc_cell": false,
   "toc_position": {},
   "toc_section_display": true,
   "toc_window_display": true
  }
 },
 "nbformat": 4,
 "nbformat_minor": 2
}
