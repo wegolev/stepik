{
 "cells": [
  {
   "attachments": {},
   "cell_type": "markdown",
   "metadata": {},
   "source": [
    "# Тематическая классификация длинных текстов - TFIDF и LogReg"
   ]
  },
  {
   "cell_type": "code",
   "execution_count": 1,
   "metadata": {},
   "outputs": [],
   "source": [
    "# Если Вы запускаете ноутбук на colab или kaggle,\n",
    "# выполните следующие строчки, чтобы подгрузить библиотеку dlnlputils_my:\n",
    "\n",
    "# !git clone https://github.com/wegolev/stepik.git && pip install -r stepik/requirements.txt\n",
    "# import sys; sys.path.append('./stepik')"
   ]
  },
  {
   "cell_type": "code",
   "execution_count": 2,
   "metadata": {
    "ExecuteTime": {
     "end_time": "2019-09-12T12:42:57.265628Z",
     "start_time": "2019-09-12T12:42:55.188211Z"
    }
   },
   "outputs": [],
   "source": [
    "import warnings\n",
    "warnings.filterwarnings('ignore')\n",
    "\n",
    "from sklearn.datasets import fetch_20newsgroups\n",
    "from sklearn.metrics import accuracy_score\n",
    "\n",
    "import numpy as np\n",
    "\n",
    "import matplotlib.pyplot as plt\n",
    "%matplotlib inline\n",
    "\n",
    "import collections\n",
    "\n",
    "import torch\n",
    "from torch import nn\n",
    "from torch.nn import functional as F\n",
    "\n",
    "import dlnlputils\n",
    "\n",
    "# Импорт функций из директории *_my. Функкии в ней модифицированны для решения задач\n",
    "from dlnlputils_my.data import tokenize_text_simple_regex, tokenize_corpus, build_vocabulary, \\\n",
    "    vectorize_texts, SparseFeaturesDataset\n",
    "from dlnlputils_my.pipeline import train_eval_loop, predict_with_model, init_random_seed\n",
    "\n",
    "init_random_seed()"
   ]
  },
  {
   "attachments": {},
   "cell_type": "markdown",
   "metadata": {},
   "source": [
    "## Предобработка текстов и подготовка признаков"
   ]
  },
  {
   "cell_type": "code",
   "execution_count": 3,
   "metadata": {
    "ExecuteTime": {
     "end_time": "2019-09-12T12:42:57.847399Z",
     "start_time": "2019-09-12T12:42:57.268037Z"
    }
   },
   "outputs": [
    {
     "name": "stdout",
     "output_type": "stream",
     "text": [
      "Количество обучающих текстов 11314\n",
      "Количество тестовых текстов 7532\n",
      "\n",
      "From: lerxst@wam.umd.edu (where's my thing)\n",
      "Subject: WHAT car is this!?\n",
      "Nntp-Posting-Host: rac3.wam.umd.edu\n",
      "Organization: University of Maryland, College Park\n",
      "Lines: 15\n",
      "\n",
      " I was wondering if anyone out there could enlighten me on this car I saw\n",
      "the other day. It was a 2-door sports car, looked to be from the late 60s/\n",
      "early 70s. It was called a Bricklin. The doors were really small. In addition,\n",
      "the front bumper was separate from the rest of the body. This is \n",
      "all I know. If anyone can tellme a model name, engine specs, years\n",
      "of production, where this car is made, history, or whatever info you\n",
      "have on this funky looking car, please e-mail.\n",
      "\n",
      "Thanks,\n",
      "- IL\n",
      "   ---- brought to you by your neighborhood Lerxst ----\n",
      "\n",
      "Метка 7\n"
     ]
    }
   ],
   "source": [
    "train_source = fetch_20newsgroups(subset='train')\n",
    "test_source = fetch_20newsgroups(subset='test')\n",
    "\n",
    "print('Количество обучающих текстов', len(train_source['data']))\n",
    "print('Количество тестовых текстов', len(test_source['data']))\n",
    "print()\n",
    "\n",
    "print(train_source['data'][0].strip())\n",
    "print()\n",
    "print('Метка', train_source['target'][0])"
   ]
  },
  {
   "attachments": {},
   "cell_type": "markdown",
   "metadata": {},
   "source": [
    "### Подготовка признаков"
   ]
  },
  {
   "cell_type": "code",
   "execution_count": 4,
   "metadata": {
    "ExecuteTime": {
     "end_time": "2019-09-12T12:43:00.294422Z",
     "start_time": "2019-09-12T12:42:57.849386Z"
    }
   },
   "outputs": [
    {
     "name": "stdout",
     "output_type": "stream",
     "text": [
      "11314\n",
      "from lerxst where thing subject what this nntp posting host rac3 organization university maryland college park lines wondering anyone there could enlighten this other door sports looked from late early called bricklin doors were really small addition front bumper separate from rest body this know anyone tellme model name engine specs years production where this made history whatever info have this funky looking please mail thanks brought your neighborhood lerxst\n",
      "[['from', 'lerxst', 'where', 'thing', 'subject', 'what', 'this', 'nntp', 'posting', 'host', 'rac3', 'organization', 'university', 'maryland', 'college', 'park', 'lines', 'wondering', 'anyone', 'there', 'could', 'enlighten', 'this', 'other', 'door', 'sports', 'looked', 'from', 'late', 'early', 'called', 'bricklin', 'doors', 'were', 'really', 'small', 'addition', 'front', 'bumper', 'separate', 'from', 'rest', 'body', 'this', 'know', 'anyone', 'tellme', 'model', 'name', 'engine', 'specs', 'years', 'production', 'where', 'this', 'made', 'history', 'whatever', 'info', 'have', 'this', 'funky', 'looking', 'please', 'mail', 'thanks', 'brought', 'your', 'neighborhood', 'lerxst']]\n"
     ]
    }
   ],
   "source": [
    "train_tokenized = tokenize_corpus(train_source['data'])\n",
    "test_tokenized = tokenize_corpus(test_source['data'])\n",
    "# train_tokenized = tokenize_corpus(train_source['data'][:10])\n",
    "# test_tokenized = tokenize_corpus(test_source['data'][:2])\n",
    "\n",
    "print(len(train_tokenized))\n",
    "print(' '.join(train_tokenized[0]))\n",
    "print(train_tokenized[:1])"
   ]
  },
  {
   "cell_type": "code",
   "execution_count": 5,
   "metadata": {
    "ExecuteTime": {
     "end_time": "2019-09-12T12:43:00.825372Z",
     "start_time": "2019-09-12T12:43:00.297392Z"
    }
   },
   "outputs": [
    {
     "name": "stdout",
     "output_type": "stream",
     "text": [
      "Количество уникальных токенов 21628\n",
      "[('that', 0), ('this', 1), ('have', 2), ('with', 3), ('writes', 4), ('article', 5), ('posting', 6), ('host', 7), ('nntp', 8), ('there', 9)]\n",
      "21628\n",
      "[7.0797241e-01 6.0146719e-01 5.9147960e-01 ... 4.4193034e-04 4.4193034e-04\n",
      " 4.4193034e-04]\n"
     ]
    }
   ],
   "source": [
    "MAX_DF = 0.8\n",
    "MIN_COUNT = 5\n",
    "vocabulary, word_doc_freq = build_vocabulary(train_tokenized, max_doc_freq=MAX_DF, min_count=MIN_COUNT)\n",
    "UNIQUE_WORDS_N = len(vocabulary)\n",
    "print('Количество уникальных токенов', UNIQUE_WORDS_N)\n",
    "print(list(vocabulary.items())[:10])\n",
    "print(len(word_doc_freq))\n",
    "print(word_doc_freq)"
   ]
  },
  {
   "cell_type": "code",
   "execution_count": 6,
   "metadata": {
    "ExecuteTime": {
     "end_time": "2019-09-12T12:43:01.524600Z",
     "start_time": "2019-09-12T12:43:00.829107Z"
    }
   },
   "outputs": [
    {
     "data": {
      "image/png": "[encoded data removed]",
      "text/plain": [
       "<Figure size 640x480 with 1 Axes>"
      ]
     },
     "metadata": {},
     "output_type": "display_data"
    }
   ],
   "source": [
    "plt.hist(word_doc_freq, bins=20)\n",
    "plt.title('Распределение относительных частот слов')\n",
    "plt.yscale('log');"
   ]
  },
  {
   "cell_type": "code",
   "execution_count": 7,
   "metadata": {
    "ExecuteTime": {
     "end_time": "2019-09-12T12:44:16.094816Z",
     "start_time": "2019-09-12T12:43:01.526554Z"
    }
   },
   "outputs": [
    {
     "name": "stdout",
     "output_type": "stream",
     "text": [
      "<class 'scipy.sparse._dok.dok_matrix'>\n",
      "(11314, 21628)\n",
      "  (0, 1)\t5.0\n",
      "  (0, 2)\t1.0\n",
      "  (0, 6)\t1.0\n",
      "  (0, 7)\t1.0\n",
      "  (0, 8)\t1.0\n",
      "  (0, 9)\t1.0\n",
      "  (0, 10)\t1.0\n",
      "  (0, 12)\t1.0\n",
      "  (0, 19)\t1.0\n",
      "  (0, 20)\t1.0\n",
      "  (0, 25)\t1.0\n",
      "  (0, 36)\t1.0\n",
      "  (0, 37)\t1.0\n",
      "  (0, 45)\t2.0\n",
      "  (0, 54)\t2.0\n",
      "  (0, 59)\t1.0\n",
      "  (0, 61)\t1.0\n",
      "  (0, 68)\t1.0\n",
      "  (0, 80)\t1.0\n",
      "  (0, 90)\t1.0\n",
      "  (0, 103)\t1.0\n",
      "  (0, 109)\t1.0\n",
      "  (0, 162)\t1.0\n",
      "  (0, 163)\t1.0\n",
      "  (0, 180)\t1.0\n",
      "  :\t:\n",
      "  (0, 392)\t1.0\n",
      "  (0, 433)\t1.0\n",
      "  (0, 459)\t1.0\n",
      "  (0, 536)\t1.0\n",
      "  (0, 556)\t1.0\n",
      "  (0, 603)\t1.0\n",
      "  (0, 624)\t1.0\n",
      "  (0, 691)\t1.0\n",
      "  (0, 783)\t1.0\n",
      "  (0, 841)\t1.0\n",
      "  (0, 925)\t1.0\n",
      "  (0, 1031)\t1.0\n",
      "  (0, 1119)\t1.0\n",
      "  (0, 1140)\t1.0\n",
      "  (0, 1208)\t1.0\n",
      "  (0, 1849)\t1.0\n",
      "  (0, 1860)\t1.0\n",
      "  (0, 1878)\t1.0\n",
      "  (0, 1964)\t1.0\n",
      "  (0, 2736)\t1.0\n",
      "  (0, 5347)\t1.0\n",
      "  (0, 5604)\t1.0\n",
      "  (0, 5940)\t1.0\n",
      "  (0, 13925)\t1.0\n",
      "  (0, 16843)\t1.0\n",
      "<class 'scipy.sparse._csc.csc_matrix'>\n",
      "(11314, 21628)\n",
      "  (0, 1)\t2.4136378e-05\n",
      "  (1, 1)\t9.622012e-06\n",
      "  (0, 2)\t4.9087876e-06\n",
      "  (1, 2)\t9.784486e-06\n",
      "  (1, 3)\t1.02855465e-05\n",
      "  (1, 5)\t6.209957e-06\n",
      "  (0, 6)\t6.4588294e-06\n",
      "  (1, 6)\t6.437061e-06\n",
      "  (0, 7)\t6.7871083e-06\n",
      "  (1, 7)\t6.764234e-06\n",
      "  (0, 8)\t6.876618e-06\n",
      "  (1, 8)\t6.853442e-06\n",
      "  (0, 9)\t7.2627918e-06\n",
      "  (0, 10)\t7.314541e-06\n",
      "  (0, 12)\t7.403562e-06\n",
      "  (1, 12)\t7.3786096e-06\n",
      "  (1, 15)\t8.674851e-06\n",
      "  (0, 19)\t9.969531e-06\n",
      "  (1, 19)\t9.93593e-06\n",
      "  (0, 20)\t9.981649e-06\n",
      "  (0, 25)\t1.1485876e-05\n",
      "  (1, 34)\t2.651996e-05\n",
      "  (0, 36)\t1.4110656e-05\n",
      "  (0, 37)\t1.417153e-05\n",
      "  (0, 45)\t3.125557e-05\n",
      "  :\t:\n",
      "  (1, 3020)\t0.000519665\n",
      "  (1, 3098)\t0.00053670316\n",
      "  (1, 3252)\t0.0011289273\n",
      "  (1, 3331)\t0.000584623\n",
      "  (1, 3496)\t0.0006177149\n",
      "  (1, 3552)\t0.0006295941\n",
      "  (1, 4378)\t0.00081847236\n",
      "  (1, 4577)\t0.0008615498\n",
      "  (1, 4679)\t0.00088483497\n",
      "  (1, 4786)\t0.0009094137\n",
      "  (1, 4787)\t0.0009094137\n",
      "  (1, 5005)\t0.0009629086\n",
      "  (1, 5108)\t0.0029762627\n",
      "  (0, 5347)\t0.0010596646\n",
      "  (0, 5604)\t0.0011327451\n",
      "  (0, 5940)\t0.001216652\n",
      "  (1, 6728)\t0.0014234302\n",
      "  (1, 8008)\t0.0018188274\n",
      "  (1, 8009)\t0.0018188274\n",
      "  (1, 11943)\t0.0032738894\n",
      "  (1, 11944)\t0.0032738894\n",
      "  (1, 12856)\t0.0072753094\n",
      "  (0, 13925)\t0.0041062008\n",
      "  (1, 15244)\t0.004676984\n",
      "  (0, 16843)\t0.0054749344\n",
      "<class 'scipy.sparse._dok.dok_matrix'>\n",
      "(7532, 21628)\n",
      "  (0, 0)\t1.0\n",
      "  (0, 1)\t1.0\n",
      "  (0, 2)\t2.0\n",
      "  (0, 6)\t1.0\n",
      "  (0, 7)\t1.0\n",
      "  (0, 8)\t1.0\n",
      "  (0, 10)\t1.0\n",
      "  (0, 11)\t1.0\n",
      "  (0, 12)\t1.0\n",
      "  (0, 20)\t1.0\n",
      "  (0, 25)\t1.0\n",
      "  (0, 27)\t1.0\n",
      "  (0, 30)\t1.0\n",
      "  (0, 31)\t1.0\n",
      "  (0, 35)\t2.0\n",
      "  (0, 37)\t1.0\n",
      "  (0, 47)\t2.0\n",
      "  (0, 62)\t1.0\n",
      "  (0, 92)\t1.0\n",
      "  (0, 99)\t1.0\n",
      "  (0, 112)\t1.0\n",
      "  (0, 115)\t1.0\n",
      "  (0, 127)\t1.0\n",
      "  (0, 131)\t1.0\n",
      "  (0, 142)\t1.0\n",
      "  (0, 207)\t1.0\n",
      "  (0, 210)\t2.0\n",
      "  (0, 228)\t1.0\n",
      "  (0, 341)\t2.0\n",
      "  (0, 372)\t1.0\n",
      "  (0, 403)\t1.0\n",
      "  (0, 459)\t1.0\n",
      "  (0, 603)\t1.0\n",
      "  (0, 637)\t2.0\n",
      "  (0, 664)\t1.0\n",
      "  (0, 1248)\t1.0\n",
      "  (0, 1342)\t1.0\n",
      "  (0, 1359)\t1.0\n",
      "  (0, 1369)\t1.0\n",
      "  (0, 1474)\t1.0\n",
      "  (0, 1620)\t1.0\n",
      "  (0, 1702)\t3.0\n",
      "  (0, 1798)\t1.0\n",
      "  (0, 2006)\t1.0\n",
      "  (0, 2364)\t1.0\n",
      "  (0, 3451)\t2.0\n",
      "  (0, 11155)\t2.0\n",
      "  (0, 21316)\t2.0\n",
      "<class 'scipy.sparse._csc.csc_matrix'>\n",
      "(7532, 21628)\n",
      "  (0, 0)\t5.9590957e-06\n",
      "  (1, 0)\t5.955641e-06\n",
      "  (0, 1)\t7.014307e-06\n",
      "  (0, 2)\t1.4265497e-05\n",
      "  (1, 3)\t7.493667e-06\n",
      "  (0, 6)\t9.385048e-06\n",
      "  (1, 6)\t9.379607e-06\n",
      "  (0, 7)\t9.862057e-06\n",
      "  (1, 7)\t9.85634e-06\n",
      "  (0, 8)\t9.99212e-06\n",
      "  (1, 8)\t9.986326e-06\n",
      "  (0, 10)\t1.0628447e-05\n",
      "  (0, 11)\t1.0635551e-05\n",
      "  (0, 12)\t1.0757799e-05\n",
      "  (1, 13)\t1.1029985e-05\n",
      "  (1, 17)\t1.3502599e-05\n",
      "  (1, 18)\t1.3661135e-05\n",
      "  (1, 19)\t1.44779e-05\n",
      "  (0, 20)\t1.4503906e-05\n",
      "  (1, 20)\t1.4495497e-05\n",
      "  (1, 23)\t1.575452e-05\n",
      "  (0, 25)\t1.6689635e-05\n",
      "  (0, 27)\t1.7685203e-05\n",
      "  (1, 29)\t1.8117995e-05\n",
      "  (0, 30)\t1.8544039e-05\n",
      "  :\t:\n",
      "  (1, 1333)\t0.00031803123\n",
      "  (0, 1342)\t0.00032251593\n",
      "  (0, 1359)\t0.0003247099\n",
      "  (0, 1369)\t0.0003247099\n",
      "  (0, 1474)\t0.00035097322\n",
      "  (0, 1620)\t0.00038493835\n",
      "  (1, 1671)\t0.00039753906\n",
      "  (0, 1702)\t0.0012135345\n",
      "  (0, 1798)\t0.00042618174\n",
      "  (1, 1913)\t0.0022934945\n",
      "  (1, 1975)\t0.0004723236\n",
      "  (0, 2006)\t0.000482145\n",
      "  (1, 2099)\t0.0015064637\n",
      "  (0, 2364)\t0.00056824234\n",
      "  (1, 2490)\t0.00059630856\n",
      "  (1, 2911)\t0.0007120102\n",
      "  (1, 3170)\t0.0007950781\n",
      "  (1, 3216)\t0.000808554\n",
      "  (0, 3451)\t0.001767865\n",
      "  (1, 3720)\t0.00095409364\n",
      "  (1, 5440)\t0.0030777215\n",
      "  (1, 6162)\t0.0018347957\n",
      "  (0, 11155)\t0.007955392\n",
      "  (1, 11774)\t0.0043367897\n",
      "  (0, 21316)\t0.019092942\n",
      "Размерность матрицы признаков обучающей выборки (11314, 21628)\n",
      "Размерность матрицы признаков тестовой выборки (7532, 21628)\n",
      "\n",
      "Количество ненулевых элементов в обучающей выборке 1126792\n",
      "Процент заполненности матрицы признаков 0.46%\n",
      "\n",
      "Количество ненулевых элементов в тестовой выборке 721529\n",
      "Процент заполненности матрицы признаков 0.44%\n"
     ]
    }
   ],
   "source": [
    "VECTORIZATION_MODE = 'log(tf)idf'\n",
    "train_vectors = vectorize_texts(train_tokenized, vocabulary, word_doc_freq, mode=VECTORIZATION_MODE)\n",
    "test_vectors = vectorize_texts(test_tokenized, vocabulary, word_doc_freq, mode=VECTORIZATION_MODE)\n",
    "\n",
    "print('Размерность матрицы признаков обучающей выборки', train_vectors.shape)\n",
    "print('Размерность матрицы признаков тестовой выборки', test_vectors.shape)\n",
    "print()\n",
    "print('Количество ненулевых элементов в обучающей выборке', train_vectors.nnz)\n",
    "print('Процент заполненности матрицы признаков {:.2f}%'.format(train_vectors.nnz * 100 / (train_vectors.shape[0] * train_vectors.shape[1])))\n",
    "print()\n",
    "print('Количество ненулевых элементов в тестовой выборке', test_vectors.nnz)\n",
    "print('Процент заполненности матрицы признаков {:.2f}%'.format(test_vectors.nnz * 100 / (test_vectors.shape[0] * test_vectors.shape[1])))"
   ]
  },
  {
   "cell_type": "code",
   "execution_count": 8,
   "metadata": {
    "ExecuteTime": {
     "end_time": "2019-09-12T12:44:16.857114Z",
     "start_time": "2019-09-12T12:44:16.098773Z"
    }
   },
   "outputs": [
    {
     "data": {
      "image/png": "[encoded data removed]",
      "text/plain": [
       "<Figure size 640x480 with 1 Axes>"
      ]
     },
     "metadata": {},
     "output_type": "display_data"
    }
   ],
   "source": [
    "plt.hist(train_vectors.data, bins=20)\n",
    "plt.title('Распределение весов признаков')\n",
    "plt.yscale('log');"
   ]
  },
  {
   "attachments": {},
   "cell_type": "markdown",
   "metadata": {},
   "source": [
    "### Распределение классов"
   ]
  },
  {
   "cell_type": "code",
   "execution_count": 9,
   "metadata": {
    "ExecuteTime": {
     "end_time": "2019-09-12T12:44:16.864960Z",
     "start_time": "2019-09-12T12:44:16.859476Z"
    }
   },
   "outputs": [
    {
     "name": "stdout",
     "output_type": "stream",
     "text": [
      "Количество уникальных меток 20\n"
     ]
    }
   ],
   "source": [
    "UNIQUE_LABELS_N = len(set(train_source['target']))\n",
    "print('Количество уникальных меток', UNIQUE_LABELS_N)"
   ]
  },
  {
   "cell_type": "code",
   "execution_count": 10,
   "metadata": {
    "ExecuteTime": {
     "end_time": "2019-09-12T12:44:17.106036Z",
     "start_time": "2019-09-12T12:44:16.867310Z"
    }
   },
   "outputs": [
    {
     "data": {
      "image/png": "[encoded data removed]",
      "text/plain": [
       "<Figure size 640x480 with 1 Axes>"
      ]
     },
     "metadata": {},
     "output_type": "display_data"
    }
   ],
   "source": [
    "plt.hist(train_source['target'], bins=np.arange(0, 21))\n",
    "plt.title('Распределение меток в обучающей выборке');"
   ]
  },
  {
   "cell_type": "code",
   "execution_count": 11,
   "metadata": {
    "ExecuteTime": {
     "end_time": "2019-09-12T12:44:17.312198Z",
     "start_time": "2019-09-12T12:44:17.109884Z"
    },
    "scrolled": true
   },
   "outputs": [
    {
     "data": {
      "image/png": "[encoded data removed]",
      "text/plain": [
       "<Figure size 640x480 with 1 Axes>"
      ]
     },
     "metadata": {},
     "output_type": "display_data"
    }
   ],
   "source": [
    "plt.hist(test_source['target'], bins=np.arange(0, 21))\n",
    "plt.title('Распределение меток в тестовой выборке');"
   ]
  },
  {
   "attachments": {},
   "cell_type": "markdown",
   "metadata": {},
   "source": [
    "### PyTorch Dataset"
   ]
  },
  {
   "cell_type": "code",
   "execution_count": 12,
   "metadata": {
    "ExecuteTime": {
     "end_time": "2019-09-12T12:44:17.319292Z",
     "start_time": "2019-09-12T12:44:17.315074Z"
    }
   },
   "outputs": [],
   "source": [
    "train_dataset = SparseFeaturesDataset(train_vectors, train_source['target'])\n",
    "test_dataset = SparseFeaturesDataset(test_vectors, test_source['target'])"
   ]
  },
  {
   "attachments": {},
   "cell_type": "markdown",
   "metadata": {},
   "source": [
    "## Обучение модели на PyTorch"
   ]
  },
  {
   "cell_type": "code",
   "execution_count": 13,
   "metadata": {
    "ExecuteTime": {
     "end_time": "2019-09-12T12:46:22.371272Z",
     "start_time": "2019-09-12T12:44:17.322178Z"
    },
    "scrolled": false
   },
   "outputs": [
    {
     "name": "stdout",
     "output_type": "stream",
     "text": [
      "Эпоха 0\n",
      "Эпоха: 354 итераций, 2.01 сек\n",
      "Среднее значение функции потерь на обучении 2.8095910555898804\n",
      "Среднее значение функции потерь на валидации 2.5784043396933605\n",
      "Новая лучшая модель!\n",
      "\n",
      "Эпоха 1\n",
      "Эпоха: 354 итераций, 2.04 сек\n",
      "Среднее значение функции потерь на обучении 2.3637363459430847\n",
      "Среднее значение функции потерь на валидации 2.274328025215763\n",
      "Новая лучшая модель!\n",
      "\n",
      "Эпоха 2\n",
      "Эпоха: 354 итераций, 2.02 сек\n",
      "Среднее значение функции потерь на обучении 2.011019704032079\n",
      "Среднее значение функции потерь на валидации 2.035094193987927\n",
      "Новая лучшая модель!\n",
      "\n",
      "Эпоха 3\n",
      "Эпоха: 354 итераций, 2.38 сек\n",
      "Среднее значение функции потерь на обучении 1.731415976575539\n",
      "Среднее значение функции потерь на валидации 1.8507481187076893\n",
      "Новая лучшая модель!\n",
      "\n",
      "Эпоха 4\n",
      "Эпоха: 354 итераций, 1.95 сек\n",
      "Среднее значение функции потерь на обучении 1.5084951306130252\n",
      "Среднее значение функции потерь на валидации 1.7056251021765045\n",
      "Новая лучшая модель!\n",
      "\n",
      "Эпоха 5\n",
      "Эпоха: 354 итераций, 1.81 сек\n",
      "Среднее значение функции потерь на обучении 1.3276368862828292\n",
      "Среднее значение функции потерь на валидации 1.5852490779706987\n",
      "Новая лучшая модель!\n",
      "\n",
      "Эпоха 6\n",
      "Эпоха: 354 итераций, 1.77 сек\n",
      "Среднее значение функции потерь на обучении 1.1806456795183278\n",
      "Среднее значение функции потерь на валидации 1.4953219991619304\n",
      "Новая лучшая модель!\n",
      "\n",
      "Эпоха 7\n",
      "Эпоха: 354 итераций, 2.12 сек\n",
      "Среднее значение функции потерь на обучении 1.058731422585956\n",
      "Среднее значение функции потерь на валидации 1.4058284408460229\n",
      "Новая лучшая модель!\n",
      "\n",
      "Эпоха 8\n",
      "Эпоха: 354 итераций, 2.19 сек\n",
      "Среднее значение функции потерь на обучении 0.9563894468848988\n",
      "Среднее значение функции потерь на валидации 1.3418041818727882\n",
      "Новая лучшая модель!\n",
      "\n",
      "Эпоха 9\n",
      "Эпоха: 354 итераций, 1.91 сек\n",
      "Среднее значение функции потерь на обучении 0.8687420891503156\n",
      "Среднее значение функции потерь на валидации 1.286390987240662\n",
      "Новая лучшая модель!\n",
      "\n",
      "Эпоха 10\n",
      "Эпоха: 354 итераций, 1.69 сек\n",
      "Среднее значение функции потерь на обучении 0.7941007649494429\n",
      "Среднее значение функции потерь на валидации 1.2427242042149527\n",
      "Новая лучшая модель!\n",
      "\n",
      "Эпоха 11\n",
      "Эпоха: 354 итераций, 1.56 сек\n",
      "Среднее значение функции потерь на обучении 0.7288070972693168\n",
      "Среднее значение функции потерь на валидации 1.1997720306202517\n",
      "Новая лучшая модель!\n",
      "\n",
      "Эпоха 12\n",
      "Эпоха: 354 итераций, 1.52 сек\n",
      "Среднее значение функции потерь на обучении 0.6713680387553522\n",
      "Среднее значение функции потерь на валидации 1.170572093987869\n",
      "Новая лучшая модель!\n",
      "\n",
      "Эпоха 13\n",
      "Эпоха: 354 итераций, 1.47 сек\n",
      "Среднее значение функции потерь на обучении 0.6212165451655953\n",
      "Среднее значение функции потерь на валидации 1.130304198396408\n",
      "Новая лучшая модель!\n",
      "\n",
      "Эпоха 14\n",
      "Эпоха: 354 итераций, 1.43 сек\n",
      "Среднее значение функции потерь на обучении 0.5756707437294352\n",
      "Среднее значение функции потерь на валидации 1.1075211427474425\n",
      "Новая лучшая модель!\n",
      "\n",
      "Эпоха 15\n",
      "Эпоха: 354 итераций, 1.51 сек\n",
      "Среднее значение функции потерь на обучении 0.5363796244738466\n",
      "Среднее значение функции потерь на валидации 1.0822722161725415\n",
      "Новая лучшая модель!\n",
      "\n",
      "Эпоха 16\n",
      "Эпоха: 354 итераций, 1.44 сек\n",
      "Среднее значение функции потерь на обучении 0.5013731461712869\n",
      "Среднее значение функции потерь на валидации 1.061960663078195\n",
      "Новая лучшая модель!\n",
      "\n",
      "Эпоха 17\n",
      "Эпоха: 354 итераций, 1.45 сек\n",
      "Среднее значение функции потерь на обучении 0.4679854783297932\n",
      "Среднее значение функции потерь на валидации 1.043879522863081\n",
      "Новая лучшая модель!\n",
      "\n",
      "Эпоха 18\n",
      "Эпоха: 354 итераций, 1.44 сек\n",
      "Среднее значение функции потерь на обучении 0.4393735685843532\n",
      "Среднее значение функции потерь на валидации 1.0213717036580636\n",
      "Новая лучшая модель!\n",
      "\n",
      "Эпоха 19\n",
      "Эпоха: 354 итераций, 1.47 сек\n",
      "Среднее значение функции потерь на обучении 0.4126998934537004\n",
      "Среднее значение функции потерь на валидации 1.0056729998628973\n",
      "Новая лучшая модель!\n",
      "\n",
      "Эпоха 20\n",
      "Эпоха: 354 итераций, 1.50 сек\n",
      "Среднее значение функции потерь на обучении 0.38775081987266485\n",
      "Среднее значение функции потерь на валидации 1.0055930383377156\n",
      "Новая лучшая модель!\n",
      "\n",
      "Эпоха 21\n",
      "Эпоха: 354 итераций, 1.46 сек\n",
      "Среднее значение функции потерь на обучении 0.36658245977540477\n",
      "Среднее значение функции потерь на валидации 0.9927845037842201\n",
      "Новая лучшая модель!\n",
      "\n",
      "Эпоха 22\n",
      "Эпоха: 354 итераций, 1.44 сек\n",
      "Среднее значение функции потерь на обучении 0.3463497635419086\n",
      "Среднее значение функции потерь на валидации 0.9805559329057144\n",
      "Новая лучшая модель!\n",
      "\n",
      "Эпоха 23\n",
      "Эпоха: 354 итераций, 1.45 сек\n",
      "Среднее значение функции потерь на обучении 0.3283437493199346\n",
      "Среднее значение функции потерь на валидации 0.9727207309866356\n",
      "Новая лучшая модель!\n",
      "\n",
      "Эпоха 24\n",
      "Эпоха: 354 итераций, 1.57 сек\n",
      "Среднее значение функции потерь на обучении 0.3104237271104492\n",
      "Среднее значение функции потерь на валидации 0.9607463126717988\n",
      "Новая лучшая модель!\n",
      "\n",
      "Эпоха 25\n",
      "Эпоха: 354 итераций, 1.45 сек\n",
      "Среднее значение функции потерь на обучении 0.2944926411586966\n",
      "Среднее значение функции потерь на валидации 0.9552733521845381\n",
      "Новая лучшая модель!\n",
      "\n",
      "Эпоха 26\n",
      "Эпоха: 354 итераций, 1.42 сек\n",
      "Среднее значение функции потерь на обучении 0.2805460907603051\n",
      "Среднее значение функции потерь на валидации 0.9479014844460002\n",
      "Новая лучшая модель!\n",
      "\n",
      "Эпоха 27\n",
      "Эпоха: 354 итераций, 1.44 сек\n",
      "Среднее значение функции потерь на обучении 0.2668812682399642\n",
      "Среднее значение функции потерь на валидации 0.9494999277137094\n",
      "\n",
      "Эпоха 28\n",
      "Эпоха: 354 итераций, 1.45 сек\n",
      "Среднее значение функции потерь на обучении 0.2539330684174757\n",
      "Среднее значение функции потерь на валидации 0.9429685334532948\n",
      "Новая лучшая модель!\n",
      "\n",
      "Эпоха 29\n",
      "Эпоха: 354 итераций, 1.55 сек\n",
      "Среднее значение функции потерь на обучении 0.24244739763480797\n",
      "Среднее значение функции потерь на валидации 0.9331983750907041\n",
      "Новая лучшая модель!\n",
      "\n",
      "Эпоха 30\n",
      "Эпоха: 354 итераций, 2.08 сек\n",
      "Среднее значение функции потерь на обучении 0.231144125810114\n",
      "Среднее значение функции потерь на валидации 0.937066991829266\n",
      "\n",
      "Эпоха 31\n",
      "Эпоха: 354 итераций, 1.80 сек\n",
      "Среднее значение функции потерь на обучении 0.22163940309994135\n",
      "Среднее значение функции потерь на валидации 0.9337647302170932\n",
      "\n",
      "Эпоха 32\n",
      "Эпоха: 354 итераций, 2.16 сек\n",
      "Среднее значение функции потерь на обучении 0.21221094781606548\n",
      "Среднее значение функции потерь на валидации 0.9356974268616256\n",
      "\n",
      "Эпоха 33\n",
      "Эпоха: 354 итераций, 1.96 сек\n",
      "Среднее значение функции потерь на обучении 0.2042604172760147\n",
      "Среднее значение функции потерь на валидации 0.9365666251061326\n",
      "\n",
      "Эпоха 34\n",
      "Эпоха: 354 итераций, 2.00 сек\n",
      "Среднее значение функции потерь на обучении 0.19474903327849624\n",
      "Среднее значение функции потерь на валидации 0.9268931718701023\n",
      "Новая лучшая модель!\n",
      "\n",
      "Эпоха 35\n",
      "Эпоха: 354 итераций, 1.96 сек\n",
      "Среднее значение функции потерь на обучении 0.186660757646133\n",
      "Среднее значение функции потерь на валидации 0.9242208459872311\n",
      "Новая лучшая модель!\n",
      "\n",
      "Эпоха 36\n",
      "Эпоха: 354 итераций, 2.03 сек\n",
      "Среднее значение функции потерь на обучении 0.17955799108781553\n",
      "Среднее значение функции потерь на валидации 0.9285156522261895\n",
      "\n",
      "Эпоха 37\n",
      "Эпоха: 354 итераций, 1.97 сек\n",
      "Среднее значение функции потерь на обучении 0.17316313311036696\n",
      "Среднее значение функции потерь на валидации 0.9328491454154758\n",
      "\n",
      "Эпоха 38\n",
      "Эпоха: 354 итераций, 1.96 сек\n",
      "Среднее значение функции потерь на обучении 0.16694635615847206\n",
      "Среднее значение функции потерь на валидации 0.9230487965426203\n",
      "Новая лучшая модель!\n",
      "\n",
      "Эпоха 39\n",
      "Эпоха: 354 итераций, 1.92 сек\n",
      "Среднее значение функции потерь на обучении 0.16066505845194146\n",
      "Среднее значение функции потерь на валидации 0.9224707974215686\n",
      "Новая лучшая модель!\n",
      "\n",
      "Эпоха 40\n",
      "Эпоха: 354 итераций, 1.85 сек\n",
      "Среднее значение функции потерь на обучении 0.15410285410444952\n",
      "Среднее значение функции потерь на валидации 0.9299549163650658\n",
      "\n",
      "Эпоха 41\n",
      "Эпоха: 354 итераций, 1.89 сек\n",
      "Среднее значение функции потерь на обучении 0.14901058422664634\n",
      "Среднее значение функции потерь на валидации 0.9460277516963118\n",
      "\n",
      "Эпоха 42\n",
      "Эпоха: 354 итераций, 1.80 сек\n",
      "Среднее значение функции потерь на обучении 0.14480252666556734\n",
      "Среднее значение функции потерь на валидации 0.9374210270026982\n",
      "\n",
      "Эпоха 43\n",
      "Эпоха: 354 итераций, 1.76 сек\n",
      "Среднее значение функции потерь на обучении 0.13882354899483212\n",
      "Среднее значение функции потерь на валидации 0.9294148131699885\n",
      "\n",
      "Эпоха 44\n",
      "Эпоха: 354 итераций, 1.83 сек\n",
      "Среднее значение функции потерь на обучении 0.13474708680842218\n",
      "Среднее значение функции потерь на валидации 0.931639731751155\n",
      "\n",
      "Эпоха 45\n",
      "Эпоха: 354 итераций, 1.81 сек\n",
      "Среднее значение функции потерь на обучении 0.12975242874443027\n",
      "Среднее значение функции потерь на валидации 0.9403315074110435\n",
      "Epoch 00046: reducing learning rate of group 0 to 5.0000e-02.\n",
      "\n",
      "Эпоха 46\n",
      "Эпоха: 354 итераций, 1.85 сек\n",
      "Среднее значение функции потерь на обучении 0.12394308625052204\n",
      "Среднее значение функции потерь на валидации 0.9460131632700816\n",
      "\n",
      "Эпоха 47\n",
      "Эпоха: 354 итераций, 1.79 сек\n",
      "Среднее значение функции потерь на обучении 0.1224596957270961\n",
      "Среднее значение функции потерь на валидации 0.9365147469659983\n",
      "\n",
      "Эпоха 48\n",
      "Эпоха: 354 итераций, 1.81 сек\n",
      "Среднее значение функции потерь на обучении 0.12024662046467012\n",
      "Среднее значение функции потерь на валидации 0.9405465433531899\n",
      "\n",
      "Эпоха 49\n",
      "Эпоха: 354 итераций, 1.84 сек\n",
      "Среднее значение функции потерь на обучении 0.11820542743287475\n",
      "Среднее значение функции потерь на валидации 0.9369334717423229\n",
      "\n",
      "Эпоха 50\n",
      "Эпоха: 354 итераций, 1.82 сек\n",
      "Среднее значение функции потерь на обучении 0.1164236273406084\n",
      "Среднее значение функции потерь на валидации 0.9412736999407664\n",
      "Модель не улучшилась за последние 10 эпох, прекращаем обучение\n"
     ]
    }
   ],
   "source": [
    "model = nn.Linear(UNIQUE_WORDS_N, UNIQUE_LABELS_N)\n",
    "\n",
    "scheduler = lambda optim: \\\n",
    "    torch.optim.lr_scheduler.ReduceLROnPlateau(optim, patience=5, factor=0.5, verbose=True)\n",
    "\n",
    "best_val_loss, best_model = train_eval_loop(model=model,\n",
    "                                            train_dataset=train_dataset,\n",
    "                                            val_dataset=test_dataset,\n",
    "                                            criterion=F.cross_entropy,\n",
    "                                            lr=1e-1,\n",
    "                                            epoch_n=200,\n",
    "                                            batch_size=32,\n",
    "                                            l2_reg_alpha=0,\n",
    "                                            lr_scheduler_ctor=scheduler)"
   ]
  },
  {
   "attachments": {},
   "cell_type": "markdown",
   "metadata": {},
   "source": [
    "## Оценка качества"
   ]
  },
  {
   "cell_type": "code",
   "execution_count": 14,
   "metadata": {
    "ExecuteTime": {
     "end_time": "2019-09-12T12:46:25.105663Z",
     "start_time": "2019-09-12T12:46:22.373012Z"
    }
   },
   "outputs": [
    {
     "name": "stderr",
     "output_type": "stream",
     "text": [
      "100%|██████████| 354/353.5625 [00:00<00:00, 359.37it/s]\n"
     ]
    },
    {
     "name": "stdout",
     "output_type": "stream",
     "text": [
      "Среднее значение функции потерь на обучении 0.15362679958343506\n",
      "Доля верных ответов 0.9935478168640622\n",
      "\n"
     ]
    },
    {
     "name": "stderr",
     "output_type": "stream",
     "text": [
      "236it [00:00, 341.90it/s]                             "
     ]
    },
    {
     "name": "stdout",
     "output_type": "stream",
     "text": [
      "Среднее значение функции потерь на валидации 0.9206929206848145\n",
      "Доля верных ответов 0.7647371216144451\n"
     ]
    },
    {
     "name": "stderr",
     "output_type": "stream",
     "text": [
      "\n"
     ]
    }
   ],
   "source": [
    "train_pred = predict_with_model(best_model, train_dataset)\n",
    "\n",
    "train_loss = F.cross_entropy(torch.from_numpy(train_pred),\n",
    "                             torch.from_numpy(train_source['target']).long())\n",
    "\n",
    "print('Среднее значение функции потерь на обучении', float(train_loss))\n",
    "print('Доля верных ответов', accuracy_score(train_source['target'], train_pred.argmax(-1)))\n",
    "print()\n",
    "\n",
    "\n",
    "\n",
    "test_pred = predict_with_model(best_model, test_dataset)\n",
    "\n",
    "test_loss = F.cross_entropy(torch.from_numpy(test_pred),\n",
    "                            torch.from_numpy(test_source['target']).long())\n",
    "\n",
    "print('Среднее значение функции потерь на валидации', float(test_loss))\n",
    "print('Доля верных ответов', accuracy_score(test_source['target'], test_pred.argmax(-1)))"
   ]
  },
  {
   "attachments": {},
   "cell_type": "markdown",
   "metadata": {},
   "source": [
    "# Альтернативная реализация на scikit-learn"
   ]
  },
  {
   "cell_type": "code",
   "execution_count": 15,
   "metadata": {
    "ExecuteTime": {
     "end_time": "2019-09-12T12:46:31.791405Z",
     "start_time": "2019-09-12T12:46:25.107897Z"
    },
    "scrolled": false
   },
   "outputs": [],
   "source": [
    "from sklearn.feature_extraction.text import TfidfVectorizer\n",
    "from sklearn.pipeline import Pipeline\n",
    "from sklearn.linear_model import LogisticRegression\n",
    "\n",
    "sklearn_pipeline = Pipeline((('vect', TfidfVectorizer(tokenizer=tokenize_text_simple_regex,\n",
    "                                                      max_df=MAX_DF,\n",
    "                                                      min_df=MIN_COUNT)),\n",
    "                             ('cls', LogisticRegression())))\n",
    "sklearn_pipeline.fit(train_source['data'], train_source['target']);"
   ]
  },
  {
   "attachments": {},
   "cell_type": "markdown",
   "metadata": {},
   "source": [
    "## Оценка качества"
   ]
  },
  {
   "cell_type": "code",
   "execution_count": 16,
   "metadata": {
    "ExecuteTime": {
     "end_time": "2019-09-12T12:46:35.454567Z",
     "start_time": "2019-09-12T12:46:31.792832Z"
    }
   },
   "outputs": [
    {
     "name": "stdout",
     "output_type": "stream",
     "text": [
      "Среднее значение функции потерь на обучении 2.495478891855899\n",
      "Доля верных ответов 0.9716280714159449\n",
      "\n",
      "Среднее значение функции потерь на валидации 2.653902258232029\n",
      "Доля верных ответов 0.8190387679235263\n"
     ]
    }
   ],
   "source": [
    "sklearn_train_pred = sklearn_pipeline.predict_proba(train_source['data'])\n",
    "sklearn_train_loss = F.cross_entropy(torch.from_numpy(sklearn_train_pred),\n",
    "                                                 torch.from_numpy(train_source['target']))\n",
    "print('Среднее значение функции потерь на обучении', float(sklearn_train_loss))\n",
    "print('Доля верных ответов', accuracy_score(train_source['target'], sklearn_train_pred.argmax(-1)))\n",
    "print()\n",
    "\n",
    "sklearn_test_pred = sklearn_pipeline.predict_proba(test_source['data'])\n",
    "sklearn_test_loss = F.cross_entropy(torch.from_numpy(sklearn_test_pred),\n",
    "                                                torch.from_numpy(test_source['target']))\n",
    "print('Среднее значение функции потерь на валидации', float(sklearn_test_loss))\n",
    "print('Доля верных ответов', accuracy_score(test_source['target'], sklearn_test_pred.argmax(-1)))"
   ]
  },
  {
   "cell_type": "code",
   "execution_count": null,
   "metadata": {},
   "outputs": [],
   "source": []
  }
 ],
 "metadata": {
  "kernelspec": {
   "display_name": "Python 3",
   "language": "python",
   "name": "python3"
  },
  "language_info": {
   "codemirror_mode": {
    "name": "ipython",
    "version": 3
   },
   "file_extension": ".py",
   "mimetype": "text/x-python",
   "name": "python",
   "nbconvert_exporter": "python",
   "pygments_lexer": "ipython3",
   "version": "3.9.18"
  },
  "latex_envs": {
   "LaTeX_envs_menu_present": true,
   "autoclose": false,
   "autocomplete": true,
   "bibliofile": "biblio.bib",
   "cite_by": "apalike",
   "current_citInitial": 1,
   "eqLabelWithNumbers": true,
   "eqNumInitial": 1,
   "hotkeys": {
    "equation": "Ctrl-E",
    "itemize": "Ctrl-I"
   },
   "labels_anchors": false,
   "latex_user_defs": false,
   "report_style_numbering": false,
   "user_envs_cfg": false
  },
  "toc": {
   "base_numbering": 1,
   "nav_menu": {},
   "number_sections": true,
   "sideBar": true,
   "skip_h1_title": false,
   "title_cell": "Table of Contents",
   "title_sidebar": "Contents",
   "toc_cell": false,
   "toc_position": {},
   "toc_section_display": true,
   "toc_window_display": true
  }
 },
 "nbformat": 4,
 "nbformat_minor": 2
}
