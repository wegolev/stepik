{
  "cells": [
    {
      "cell_type": "code",
      "execution_count": 28,
      "metadata": {
        "id": "zPARQwl9Oui3"
      },
      "outputs": [],
      "source": [
        "import torch\n",
        "import torch.nn as nn"
      ]
    },
    {
      "cell_type": "markdown",
      "metadata": {
        "id": "aMXh5pjxao4P"
      },
      "source": [
        "## Шаг 3\n",
        "Примените свёртку с ядром (−0.5,0,0.5) к сигналу (1,1,2,3,3,3,2,1,1). Ответ запишите в виде последовательности чисел, разделённых пробелами. В качестве десятичного разделителя используйте точку. Входную последовательность не нужно дополнять фиктивными элементами (padding выключен).\n",
        "\n",
        "Шаг свёртки (stride в PyTorch) считаем 1."
      ]
    },
    {
      "cell_type": "code",
      "execution_count": 29,
      "metadata": {
        "colab": {
          "base_uri": "https://localhost:8080/",
          "height": 331
        },
        "id": "tVJC4M3wa_-l",
        "outputId": "2d901149-c5cc-4261-de5e-b0aa91345eb6"
      },
      "outputs": [],
      "source": [
        "# x = torch.Tensor([1, 1, 2, 3, 3, 3, 2, 1, 1]).unsqueeze(0)\n",
        "# print(x.shape)\n",
        "# print(x)\n",
        "# # x = torch.transpose(x, 1, 0)\n",
        "# print(x.shape)\n",
        "# print(x)\n",
        "\n",
        "# kernel = torch.Tensor([[-0.5, 0, 0.5],\n",
        "#                       [0, 0, 0]]).unsqueeze(0)\n",
        "# print(kernel.shape)\n",
        "# print(kernel)\n",
        "\n",
        "# y = nn.functional.conv1d(x, kernel)\n",
        "# print('answer:')\n",
        "# print(y)"
      ]
    },
    {
      "cell_type": "markdown",
      "metadata": {
        "id": "sKNsgQKxZvb6"
      },
      "source": [
        "## Шаг 5\n",
        "Оцените ширину рецептивного поля для нейросети, состоящей из 4 свёрточных слоёв с ядром 5, соединённых последовательно. Код на PyTorch для создания такой нейросети:\n",
        "```\n",
        "nn.Sequential(\n",
        "    nn.Conv1d(in_channels=1, out_channels=1, kernel_size=5),\n",
        "    nn.Conv1d(in_channels=1, out_channels=1, kernel_size=5),\n",
        "    nn.Conv1d(in_channels=1, out_channels=1, kernel_size=5),\n",
        "    nn.Conv1d(in_channels=1, out_channels=1, kernel_size=5)\n",
        ")\n",
        "```\n",
        "Ширина рецептивного поля - наибольшее расстояние между элементами входной последовательности, которые могут влиять на один и тот же элемент выходной последовательности, плюс один.\n",
        "\n",
        "Например, ширина рецептивного поля для одного свёрточного блока с ядром 3 равна 3. Для двух таких блоков, соединённых последовательно - 5."
      ]
    },
    {
      "cell_type": "code",
      "execution_count": 30,
      "metadata": {
        "colab": {
          "base_uri": "https://localhost:8080/"
        },
        "id": "7hpxNIQ7aDih",
        "outputId": "d6915223-5b27-488e-aff5-dc3c1ebb9566"
      },
      "outputs": [
        {
          "data": {
            "text/plain": [
              "17"
            ]
          },
          "execution_count": 30,
          "metadata": {},
          "output_type": "execute_result"
        }
      ],
      "source": [
        "def receptive_field(size_kernel, count_layers):\n",
        "    return size_kernel + (size_kernel - 1)*(count_layers - 1)\n",
        "\n",
        "receptive_field(5, 4)"
      ]
    },
    {
      "cell_type": "markdown",
      "metadata": {
        "id": "AEl8MWumZMwl"
      },
      "source": [
        "## Шаг 6\n",
        "Примените свёртку к входной последовательности, в которой каждый элемент кодируется вектором размерности 2 (часть 1)"
      ]
    },
    {
      "cell_type": "code",
      "execution_count": 31,
      "metadata": {
        "colab": {
          "base_uri": "https://localhost:8080/"
        },
        "id": "rqJielhgOHVS",
        "outputId": "f34bc7a8-d698-44dc-a5ca-a909a61f9324"
      },
      "outputs": [
        {
          "name": "stdout",
          "output_type": "stream",
          "text": [
            "torch.Size([5, 2])\n",
            "tensor([[1., 0.],\n",
            "        [1., 1.],\n",
            "        [0., 0.],\n",
            "        [0., 1.],\n",
            "        [1., 0.]])\n",
            "torch.Size([2, 5])\n",
            "tensor([[1., 1., 0., 0., 1.],\n",
            "        [0., 1., 0., 1., 0.]])\n"
          ]
        }
      ],
      "source": [
        "x = torch.Tensor([[1, 0],\n",
        "                 [1, 1],\n",
        "                 [0, 0],\n",
        "                 [0, 1],\n",
        "                 [1, 0]])\n",
        "print(x.shape)\n",
        "print(x)\n",
        "x = torch.transpose(x, 1, 0)\n",
        "print(x.shape)\n",
        "print(x)"
      ]
    },
    {
      "cell_type": "code",
      "execution_count": 32,
      "metadata": {
        "colab": {
          "base_uri": "https://localhost:8080/"
        },
        "id": "1LD7zUCUQa5U",
        "outputId": "030573fa-f643-4061-b377-61726f7b0812"
      },
      "outputs": [
        {
          "name": "stdout",
          "output_type": "stream",
          "text": [
            "torch.Size([1, 2, 3])\n",
            "tensor([[[1., 1., 0.],\n",
            "         [0., 1., 1.]]])\n",
            "answer:\n",
            "tensor([[3., 2., 1.]])\n"
          ]
        }
      ],
      "source": [
        "kernel = torch.Tensor([[1, 1, 0],\n",
        "                    [0, 1, 1]]).unsqueeze(0)\n",
        "print(kernel.shape)\n",
        "print(kernel)\n",
        "\n",
        "y = nn.functional.conv1d(x, kernel)\n",
        "print('answer:')\n",
        "print(y)"
      ]
    },
    {
      "cell_type": "markdown",
      "metadata": {
        "id": "mzTtHx0VZJ3d"
      },
      "source": [
        "## Шаг 7\n",
        "Примените свёртку к входной последовательности, в которой каждый элемент кодируется вектором размерности 2. (часть 2)"
      ]
    },
    {
      "cell_type": "code",
      "execution_count": 42,
      "metadata": {
        "id": "Fr6OZbR9ZB53"
      },
      "outputs": [
        {
          "name": "stdout",
          "output_type": "stream",
          "text": [
            "torch.Size([5, 2])\n",
            "tensor([[1., 0.],\n",
            "        [1., 1.],\n",
            "        [0., 0.],\n",
            "        [0., 1.],\n",
            "        [1., 0.]])\n",
            "torch.Size([2, 5])\n",
            "tensor([[1., 1., 0., 0., 1.],\n",
            "        [0., 1., 0., 1., 0.]])\n"
          ]
        }
      ],
      "source": [
        "input = torch.Tensor([[1, 0],\n",
        "                 [1, 1],\n",
        "                 [0, 0],\n",
        "                 [0, 1],\n",
        "                 [1, 0]])\n",
        "print(input.shape)\n",
        "print(input)\n",
        "input = torch.transpose(input, 1, 0)\n",
        "print(input.shape)\n",
        "print(input)"
      ]
    },
    {
      "cell_type": "code",
      "execution_count": 44,
      "metadata": {},
      "outputs": [
        {
          "name": "stdout",
          "output_type": "stream",
          "text": [
            "torch.Size([4, 3])\n",
            "tensor([[1., 1., 0.],\n",
            "        [0., 1., 1.],\n",
            "        [1., 0., 0.],\n",
            "        [0., 0., 1.]])\n",
            "torch.Size([2, 2, 3])\n",
            "tensor([[[1., 1., 0.],\n",
            "         [0., 1., 1.]],\n",
            "\n",
            "        [[1., 0., 0.],\n",
            "         [0., 0., 1.]]])\n"
          ]
        }
      ],
      "source": [
        "kernel = torch.Tensor([[1, 1, 0],\n",
        "                       [0, 1, 1], \n",
        "                       [1, 0, 0],\n",
        "                       [0, 0, 1]])\n",
        "print(kernel.shape)\n",
        "print(kernel)\n",
        "kernel = kernel.view(2, 2, 3)\n",
        "print(kernel.shape)\n",
        "print(kernel)"
      ]
    },
    {
      "cell_type": "code",
      "execution_count": 47,
      "metadata": {},
      "outputs": [
        {
          "data": {
            "text/plain": [
              "tensor([[3., 1.],\n",
              "        [2., 2.],\n",
              "        [1., 0.]])"
            ]
          },
          "execution_count": 47,
          "metadata": {},
          "output_type": "execute_result"
        }
      ],
      "source": [
        "output = nn.functional.conv1d(input, kernel)\n",
        "output.transpose(-2, 1)"
      ]
    },
    {
      "cell_type": "markdown",
      "metadata": {},
      "source": [
        "## Шаг 8\n",
        "Оцените количество параметров в свёрточном блоке, принимающем 64 канала, возвращающем 128 каналов, длина ядра 5. Не забывайте про параметры сдвига (bias, их количество соответствует количеству выходных каналов)."
      ]
    },
    {
      "cell_type": "markdown",
      "metadata": {},
      "source": [
        "Размер свертки n x m.  l=64 feature maps в качестве ввода,k=128 feature maps в качестве вывода, а размер фильтра -n=5 x m=1.  Таким образом, общее количество весов -n*m*k*l. Тогда есть также термин смещения для каждой карты объектов, поэтому у нас есть общее количество параметров (n*m*l+1)*k.\n",
        "\n",
        "Нужно просто посмотреть на формулу свертки в предыдущем задании\n",
        "(k*in+1)*out\n",
        "k-длина ядра, in - входной канал, out - выходной канал"
      ]
    },
    {
      "cell_type": "code",
      "execution_count": 49,
      "metadata": {},
      "outputs": [
        {
          "data": {
            "text/plain": [
              "41088"
            ]
          },
          "execution_count": 49,
          "metadata": {},
          "output_type": "execute_result"
        }
      ],
      "source": [
        "(5*1*64+1)*128"
      ]
    }
  ],
  "metadata": {
    "colab": {
      "provenance": []
    },
    "kernelspec": {
      "display_name": "Python 3",
      "name": "python3"
    },
    "language_info": {
      "codemirror_mode": {
        "name": "ipython",
        "version": 3
      },
      "file_extension": ".py",
      "mimetype": "text/x-python",
      "name": "python",
      "nbconvert_exporter": "python",
      "pygments_lexer": "ipython3",
      "version": "3.9.18"
    }
  },
  "nbformat": 4,
  "nbformat_minor": 0
}
